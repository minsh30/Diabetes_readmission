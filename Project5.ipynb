{
  "nbformat": 4,
  "nbformat_minor": 0,
  "metadata": {
    "colab": {
      "name": "Project5.ipynb",
      "provenance": []
    },
    "kernelspec": {
      "name": "python3",
      "display_name": "Python 3"
    }
  },
  "cells": [
    {
      "cell_type": "markdown",
      "metadata": {
        "id": "l0ID4ipGtnpR",
        "colab_type": "text"
      },
      "source": [
        "# Minshu Dubey"
      ]
    },
    {
      "cell_type": "markdown",
      "metadata": {
        "id": "eRYLO4VDtxBK",
        "colab_type": "text"
      },
      "source": [
        "## "
      ]
    },
    {
      "cell_type": "markdown",
      "metadata": {
        "id": "NqCJlBs1t261",
        "colab_type": "text"
      },
      "source": [
        "**Data Set Information:**\n",
        "\n",
        "The dataset represents 10 years (1999-2008) of clinical care at 130 US hospitals and integrated delivery networks. It includes over 50 features representing patient and hospital outcomes. Information was extracted from the database for encounters that satisfied the following criteria.\n",
        "\n",
        "It is an inpatient encounter (a hospital admission).\n",
        "\n",
        "It is a diabetic encounter, that is, one during which any kind of diabetes was entered to the system as a diagnosis.'\n",
        "\n",
        "The length of stay was at least 1 day and at most 14 days.\n",
        "\n",
        "Laboratory tests were performed during the encounter.\n",
        "\n",
        "Medications were administered during the encounter.\n",
        "\n",
        "The data contains such attributes as patient number, race, gender, age, admission type, time in hospital, medical specialty of admitting physician, number of lab test performed, HbA1c test result, diagnosis, number of medication, diabetic medications, number of outpatient, inpatient, and emergency visits in the year before the hospitalization, etc.\n",
        " \n",
        "\n",
        "**Requirements**\n",
        "\n",
        "1)Read this background paper (Links to an external site.) to familiarize yourself with the problem.\n",
        "\n",
        "2)Perform data scrubbing to deal with missing data, and then scale the data. \n",
        "\n",
        "3)Find out which features have most influence on patients with diabetes or being readmitted, e.g., age, race, weight, blood pressure, etc.\n",
        "\n",
        "4)Use RF and SVM (linear as well as nonlinear kernels , as necessary) to learn classification of diabetic patients and those being readmitted.\n",
        "\n",
        "5)If using a LinearSVC, also use SVC and SGDClassifier to see if you can get them to roughly produce the same model.\n",
        "\n",
        "6)Calculate and present performance parameters (e.g. accuracy, etc.) of each model using appropriate graphs such as bar charts. "
      ]
    },
    {
      "cell_type": "markdown",
      "metadata": {
        "id": "bXCC3SSWu2ec",
        "colab_type": "text"
      },
      "source": [
        "# Setup:"
      ]
    },
    {
      "cell_type": "code",
      "metadata": {
        "id": "qAUQWnrwu1_K",
        "colab_type": "code",
        "colab": {}
      },
      "source": [
        "# To support both python 2 and python 3\n",
        "from __future__ import division, print_function, unicode_literals\n",
        "\n",
        "# Common imports\n",
        "import numpy as np\n",
        "import os\n",
        "\n",
        "# to make this notebook's output stable across runs\n",
        "np.random.seed(42)\n",
        "\n",
        "# To plot pretty figures\n",
        "%matplotlib inline\n",
        "import matplotlib as mpl\n",
        "import matplotlib.pyplot as plt\n",
        "mpl.rc('axes', labelsize=14)\n",
        "mpl.rc('xtick', labelsize=12)\n",
        "mpl.rc('ytick', labelsize=12)\n",
        "\n",
        "# Where to save the figures\n",
        "PROJECT_ROOT_DIR = \".\"\n",
        "CHAPTER_ID = \"svm\"\n",
        "IMAGES_PATH = os.path.join(PROJECT_ROOT_DIR, \"images\", CHAPTER_ID)\n",
        "os.makedirs(IMAGES_PATH, exist_ok=True)\n",
        "\n",
        "def save_fig(fig_id, tight_layout=True, fig_extension=\"png\", resolution=300):\n",
        "    path = os.path.join(IMAGES_PATH, fig_id + \".\" + fig_extension)\n",
        "    print(\"Saving figure\", fig_id)\n",
        "    if tight_layout:\n",
        "        plt.tight_layout()\n",
        "    plt.savefig(path, format=fig_extension, dpi=resolution)"
      ],
      "execution_count": 0,
      "outputs": []
    },
    {
      "cell_type": "markdown",
      "metadata": {
        "id": "U8RGZSMav8mn",
        "colab_type": "text"
      },
      "source": [
        "Loading libraries we will be using"
      ]
    },
    {
      "cell_type": "code",
      "metadata": {
        "id": "bMKQIQPXwENX",
        "colab_type": "code",
        "outputId": "59157c8e-0f1c-4f73-dbda-fd1acfb10001",
        "colab": {
          "base_uri": "https://localhost:8080/",
          "height": 103
        }
      },
      "source": [
        "#Loading libraries \n",
        "import pandas as pd\n",
        "import numpy as np\n",
        "import matplotlib.pyplot as plt\n",
        "import seaborn as sns\n",
        "from collections import Counter\n",
        "from imblearn.over_sampling import SMOTE\n",
        "from sklearn.model_selection import train_test_split\n",
        "from sklearn.metrics import accuracy_score, precision_score, recall_score\n",
        "from sklearn.model_selection import RepeatedStratifiedKFold\n",
        "from sklearn.model_selection import cross_val_score\n",
        "from sklearn.model_selection import KFold\n",
        "from numpy import mean\n",
        "from sklearn.svm import LinearSVC"
      ],
      "execution_count": 2,
      "outputs": [
        {
          "output_type": "stream",
          "text": [
            "/usr/local/lib/python3.6/dist-packages/sklearn/externals/six.py:31: FutureWarning: The module is deprecated in version 0.21 and will be removed in version 0.23 since we've dropped support for Python 2.7. Please rely on the official version of six (https://pypi.org/project/six/).\n",
            "  \"(https://pypi.org/project/six/).\", FutureWarning)\n",
            "/usr/local/lib/python3.6/dist-packages/sklearn/utils/deprecation.py:144: FutureWarning: The sklearn.neighbors.base module is  deprecated in version 0.22 and will be removed in version 0.24. The corresponding classes / functions should instead be imported from sklearn.neighbors. Anything that cannot be imported from sklearn.neighbors is now part of the private API.\n",
            "  warnings.warn(message, FutureWarning)\n"
          ],
          "name": "stderr"
        }
      ]
    },
    {
      "cell_type": "code",
      "metadata": {
        "id": "H-1cgZjqvO8w",
        "colab_type": "code",
        "outputId": "b87255d1-4b87-4d03-ed70-44a87e97e9c2",
        "colab": {
          "base_uri": "https://localhost:8080/",
          "height": 320
        }
      },
      "source": [
        "#Load the dataset\n",
        "\n",
        "import pandas as pd\n",
        "url = 'https://raw.githubusercontent.com/minsh30/Diabetes_readmission/master/diabetic_data.csv'\n",
        "diabetic = pd.read_csv(url)\n",
        "diabetic.head()"
      ],
      "execution_count": 3,
      "outputs": [
        {
          "output_type": "execute_result",
          "data": {
            "text/html": [
              "<div>\n",
              "<style scoped>\n",
              "    .dataframe tbody tr th:only-of-type {\n",
              "        vertical-align: middle;\n",
              "    }\n",
              "\n",
              "    .dataframe tbody tr th {\n",
              "        vertical-align: top;\n",
              "    }\n",
              "\n",
              "    .dataframe thead th {\n",
              "        text-align: right;\n",
              "    }\n",
              "</style>\n",
              "<table border=\"1\" class=\"dataframe\">\n",
              "  <thead>\n",
              "    <tr style=\"text-align: right;\">\n",
              "      <th></th>\n",
              "      <th>encounter_id</th>\n",
              "      <th>patient_nbr</th>\n",
              "      <th>race</th>\n",
              "      <th>gender</th>\n",
              "      <th>age</th>\n",
              "      <th>weight</th>\n",
              "      <th>admission_type_id</th>\n",
              "      <th>discharge_disposition_id</th>\n",
              "      <th>admission_source_id</th>\n",
              "      <th>time_in_hospital</th>\n",
              "      <th>payer_code</th>\n",
              "      <th>medical_specialty</th>\n",
              "      <th>num_lab_procedures</th>\n",
              "      <th>num_procedures</th>\n",
              "      <th>num_medications</th>\n",
              "      <th>number_outpatient</th>\n",
              "      <th>number_emergency</th>\n",
              "      <th>number_inpatient</th>\n",
              "      <th>diag_1</th>\n",
              "      <th>diag_2</th>\n",
              "      <th>diag_3</th>\n",
              "      <th>number_diagnoses</th>\n",
              "      <th>max_glu_serum</th>\n",
              "      <th>A1Cresult</th>\n",
              "      <th>metformin</th>\n",
              "      <th>repaglinide</th>\n",
              "      <th>nateglinide</th>\n",
              "      <th>chlorpropamide</th>\n",
              "      <th>glimepiride</th>\n",
              "      <th>acetohexamide</th>\n",
              "      <th>glipizide</th>\n",
              "      <th>glyburide</th>\n",
              "      <th>tolbutamide</th>\n",
              "      <th>pioglitazone</th>\n",
              "      <th>rosiglitazone</th>\n",
              "      <th>acarbose</th>\n",
              "      <th>miglitol</th>\n",
              "      <th>troglitazone</th>\n",
              "      <th>tolazamide</th>\n",
              "      <th>examide</th>\n",
              "      <th>citoglipton</th>\n",
              "      <th>insulin</th>\n",
              "      <th>glyburide-metformin</th>\n",
              "      <th>glipizide-metformin</th>\n",
              "      <th>glimepiride-pioglitazone</th>\n",
              "      <th>metformin-rosiglitazone</th>\n",
              "      <th>metformin-pioglitazone</th>\n",
              "      <th>change</th>\n",
              "      <th>diabetesMed</th>\n",
              "      <th>readmitted</th>\n",
              "    </tr>\n",
              "  </thead>\n",
              "  <tbody>\n",
              "    <tr>\n",
              "      <th>0</th>\n",
              "      <td>2278392</td>\n",
              "      <td>8222157</td>\n",
              "      <td>Caucasian</td>\n",
              "      <td>Female</td>\n",
              "      <td>[0-10)</td>\n",
              "      <td>?</td>\n",
              "      <td>6</td>\n",
              "      <td>25</td>\n",
              "      <td>1</td>\n",
              "      <td>1</td>\n",
              "      <td>?</td>\n",
              "      <td>Pediatrics-Endocrinology</td>\n",
              "      <td>41</td>\n",
              "      <td>0</td>\n",
              "      <td>1</td>\n",
              "      <td>0</td>\n",
              "      <td>0</td>\n",
              "      <td>0</td>\n",
              "      <td>250.83</td>\n",
              "      <td>?</td>\n",
              "      <td>?</td>\n",
              "      <td>1</td>\n",
              "      <td>None</td>\n",
              "      <td>None</td>\n",
              "      <td>No</td>\n",
              "      <td>No</td>\n",
              "      <td>No</td>\n",
              "      <td>No</td>\n",
              "      <td>No</td>\n",
              "      <td>No</td>\n",
              "      <td>No</td>\n",
              "      <td>No</td>\n",
              "      <td>No</td>\n",
              "      <td>No</td>\n",
              "      <td>No</td>\n",
              "      <td>No</td>\n",
              "      <td>No</td>\n",
              "      <td>No</td>\n",
              "      <td>No</td>\n",
              "      <td>No</td>\n",
              "      <td>No</td>\n",
              "      <td>No</td>\n",
              "      <td>No</td>\n",
              "      <td>No</td>\n",
              "      <td>No</td>\n",
              "      <td>No</td>\n",
              "      <td>No</td>\n",
              "      <td>No</td>\n",
              "      <td>No</td>\n",
              "      <td>NO</td>\n",
              "    </tr>\n",
              "    <tr>\n",
              "      <th>1</th>\n",
              "      <td>149190</td>\n",
              "      <td>55629189</td>\n",
              "      <td>Caucasian</td>\n",
              "      <td>Female</td>\n",
              "      <td>[10-20)</td>\n",
              "      <td>?</td>\n",
              "      <td>1</td>\n",
              "      <td>1</td>\n",
              "      <td>7</td>\n",
              "      <td>3</td>\n",
              "      <td>?</td>\n",
              "      <td>?</td>\n",
              "      <td>59</td>\n",
              "      <td>0</td>\n",
              "      <td>18</td>\n",
              "      <td>0</td>\n",
              "      <td>0</td>\n",
              "      <td>0</td>\n",
              "      <td>276</td>\n",
              "      <td>250.01</td>\n",
              "      <td>255</td>\n",
              "      <td>9</td>\n",
              "      <td>None</td>\n",
              "      <td>None</td>\n",
              "      <td>No</td>\n",
              "      <td>No</td>\n",
              "      <td>No</td>\n",
              "      <td>No</td>\n",
              "      <td>No</td>\n",
              "      <td>No</td>\n",
              "      <td>No</td>\n",
              "      <td>No</td>\n",
              "      <td>No</td>\n",
              "      <td>No</td>\n",
              "      <td>No</td>\n",
              "      <td>No</td>\n",
              "      <td>No</td>\n",
              "      <td>No</td>\n",
              "      <td>No</td>\n",
              "      <td>No</td>\n",
              "      <td>No</td>\n",
              "      <td>Up</td>\n",
              "      <td>No</td>\n",
              "      <td>No</td>\n",
              "      <td>No</td>\n",
              "      <td>No</td>\n",
              "      <td>No</td>\n",
              "      <td>Ch</td>\n",
              "      <td>Yes</td>\n",
              "      <td>&gt;30</td>\n",
              "    </tr>\n",
              "    <tr>\n",
              "      <th>2</th>\n",
              "      <td>64410</td>\n",
              "      <td>86047875</td>\n",
              "      <td>AfricanAmerican</td>\n",
              "      <td>Female</td>\n",
              "      <td>[20-30)</td>\n",
              "      <td>?</td>\n",
              "      <td>1</td>\n",
              "      <td>1</td>\n",
              "      <td>7</td>\n",
              "      <td>2</td>\n",
              "      <td>?</td>\n",
              "      <td>?</td>\n",
              "      <td>11</td>\n",
              "      <td>5</td>\n",
              "      <td>13</td>\n",
              "      <td>2</td>\n",
              "      <td>0</td>\n",
              "      <td>1</td>\n",
              "      <td>648</td>\n",
              "      <td>250</td>\n",
              "      <td>V27</td>\n",
              "      <td>6</td>\n",
              "      <td>None</td>\n",
              "      <td>None</td>\n",
              "      <td>No</td>\n",
              "      <td>No</td>\n",
              "      <td>No</td>\n",
              "      <td>No</td>\n",
              "      <td>No</td>\n",
              "      <td>No</td>\n",
              "      <td>Steady</td>\n",
              "      <td>No</td>\n",
              "      <td>No</td>\n",
              "      <td>No</td>\n",
              "      <td>No</td>\n",
              "      <td>No</td>\n",
              "      <td>No</td>\n",
              "      <td>No</td>\n",
              "      <td>No</td>\n",
              "      <td>No</td>\n",
              "      <td>No</td>\n",
              "      <td>No</td>\n",
              "      <td>No</td>\n",
              "      <td>No</td>\n",
              "      <td>No</td>\n",
              "      <td>No</td>\n",
              "      <td>No</td>\n",
              "      <td>No</td>\n",
              "      <td>Yes</td>\n",
              "      <td>NO</td>\n",
              "    </tr>\n",
              "    <tr>\n",
              "      <th>3</th>\n",
              "      <td>500364</td>\n",
              "      <td>82442376</td>\n",
              "      <td>Caucasian</td>\n",
              "      <td>Male</td>\n",
              "      <td>[30-40)</td>\n",
              "      <td>?</td>\n",
              "      <td>1</td>\n",
              "      <td>1</td>\n",
              "      <td>7</td>\n",
              "      <td>2</td>\n",
              "      <td>?</td>\n",
              "      <td>?</td>\n",
              "      <td>44</td>\n",
              "      <td>1</td>\n",
              "      <td>16</td>\n",
              "      <td>0</td>\n",
              "      <td>0</td>\n",
              "      <td>0</td>\n",
              "      <td>8</td>\n",
              "      <td>250.43</td>\n",
              "      <td>403</td>\n",
              "      <td>7</td>\n",
              "      <td>None</td>\n",
              "      <td>None</td>\n",
              "      <td>No</td>\n",
              "      <td>No</td>\n",
              "      <td>No</td>\n",
              "      <td>No</td>\n",
              "      <td>No</td>\n",
              "      <td>No</td>\n",
              "      <td>No</td>\n",
              "      <td>No</td>\n",
              "      <td>No</td>\n",
              "      <td>No</td>\n",
              "      <td>No</td>\n",
              "      <td>No</td>\n",
              "      <td>No</td>\n",
              "      <td>No</td>\n",
              "      <td>No</td>\n",
              "      <td>No</td>\n",
              "      <td>No</td>\n",
              "      <td>Up</td>\n",
              "      <td>No</td>\n",
              "      <td>No</td>\n",
              "      <td>No</td>\n",
              "      <td>No</td>\n",
              "      <td>No</td>\n",
              "      <td>Ch</td>\n",
              "      <td>Yes</td>\n",
              "      <td>NO</td>\n",
              "    </tr>\n",
              "    <tr>\n",
              "      <th>4</th>\n",
              "      <td>16680</td>\n",
              "      <td>42519267</td>\n",
              "      <td>Caucasian</td>\n",
              "      <td>Male</td>\n",
              "      <td>[40-50)</td>\n",
              "      <td>?</td>\n",
              "      <td>1</td>\n",
              "      <td>1</td>\n",
              "      <td>7</td>\n",
              "      <td>1</td>\n",
              "      <td>?</td>\n",
              "      <td>?</td>\n",
              "      <td>51</td>\n",
              "      <td>0</td>\n",
              "      <td>8</td>\n",
              "      <td>0</td>\n",
              "      <td>0</td>\n",
              "      <td>0</td>\n",
              "      <td>197</td>\n",
              "      <td>157</td>\n",
              "      <td>250</td>\n",
              "      <td>5</td>\n",
              "      <td>None</td>\n",
              "      <td>None</td>\n",
              "      <td>No</td>\n",
              "      <td>No</td>\n",
              "      <td>No</td>\n",
              "      <td>No</td>\n",
              "      <td>No</td>\n",
              "      <td>No</td>\n",
              "      <td>Steady</td>\n",
              "      <td>No</td>\n",
              "      <td>No</td>\n",
              "      <td>No</td>\n",
              "      <td>No</td>\n",
              "      <td>No</td>\n",
              "      <td>No</td>\n",
              "      <td>No</td>\n",
              "      <td>No</td>\n",
              "      <td>No</td>\n",
              "      <td>No</td>\n",
              "      <td>Steady</td>\n",
              "      <td>No</td>\n",
              "      <td>No</td>\n",
              "      <td>No</td>\n",
              "      <td>No</td>\n",
              "      <td>No</td>\n",
              "      <td>Ch</td>\n",
              "      <td>Yes</td>\n",
              "      <td>NO</td>\n",
              "    </tr>\n",
              "  </tbody>\n",
              "</table>\n",
              "</div>"
            ],
            "text/plain": [
              "   encounter_id  patient_nbr             race  ... change diabetesMed readmitted\n",
              "0       2278392      8222157        Caucasian  ...     No          No         NO\n",
              "1        149190     55629189        Caucasian  ...     Ch         Yes        >30\n",
              "2         64410     86047875  AfricanAmerican  ...     No         Yes         NO\n",
              "3        500364     82442376        Caucasian  ...     Ch         Yes         NO\n",
              "4         16680     42519267        Caucasian  ...     Ch         Yes         NO\n",
              "\n",
              "[5 rows x 50 columns]"
            ]
          },
          "metadata": {
            "tags": []
          },
          "execution_count": 3
        }
      ]
    },
    {
      "cell_type": "code",
      "metadata": {
        "id": "k5dLz7fvxzKv",
        "colab_type": "code",
        "outputId": "6dc49703-9ae0-4e8a-cd7e-2afa400f8749",
        "colab": {
          "base_uri": "https://localhost:8080/",
          "height": 33
        }
      },
      "source": [
        "print(\"Number of entries: \",len(diabetic))"
      ],
      "execution_count": 4,
      "outputs": [
        {
          "output_type": "stream",
          "text": [
            "Number of entries:  101766\n"
          ],
          "name": "stdout"
        }
      ]
    },
    {
      "cell_type": "code",
      "metadata": {
        "id": "PA4ud79Ky7I7",
        "colab_type": "code",
        "outputId": "b2fa4089-85a6-4fde-fdc5-da748b89cd74",
        "colab": {
          "base_uri": "https://localhost:8080/",
          "height": 935
        }
      },
      "source": [
        "#let's get a quick overview of dataset\n",
        "\n",
        "diabetic.info()"
      ],
      "execution_count": 5,
      "outputs": [
        {
          "output_type": "stream",
          "text": [
            "<class 'pandas.core.frame.DataFrame'>\n",
            "RangeIndex: 101766 entries, 0 to 101765\n",
            "Data columns (total 50 columns):\n",
            "encounter_id                101766 non-null int64\n",
            "patient_nbr                 101766 non-null int64\n",
            "race                        101766 non-null object\n",
            "gender                      101766 non-null object\n",
            "age                         101766 non-null object\n",
            "weight                      101766 non-null object\n",
            "admission_type_id           101766 non-null int64\n",
            "discharge_disposition_id    101766 non-null int64\n",
            "admission_source_id         101766 non-null int64\n",
            "time_in_hospital            101766 non-null int64\n",
            "payer_code                  101766 non-null object\n",
            "medical_specialty           101766 non-null object\n",
            "num_lab_procedures          101766 non-null int64\n",
            "num_procedures              101766 non-null int64\n",
            "num_medications             101766 non-null int64\n",
            "number_outpatient           101766 non-null int64\n",
            "number_emergency            101766 non-null int64\n",
            "number_inpatient            101766 non-null int64\n",
            "diag_1                      101766 non-null object\n",
            "diag_2                      101766 non-null object\n",
            "diag_3                      101766 non-null object\n",
            "number_diagnoses            101766 non-null int64\n",
            "max_glu_serum               101766 non-null object\n",
            "A1Cresult                   101766 non-null object\n",
            "metformin                   101766 non-null object\n",
            "repaglinide                 101766 non-null object\n",
            "nateglinide                 101766 non-null object\n",
            "chlorpropamide              101766 non-null object\n",
            "glimepiride                 101766 non-null object\n",
            "acetohexamide               101766 non-null object\n",
            "glipizide                   101766 non-null object\n",
            "glyburide                   101766 non-null object\n",
            "tolbutamide                 101766 non-null object\n",
            "pioglitazone                101766 non-null object\n",
            "rosiglitazone               101766 non-null object\n",
            "acarbose                    101766 non-null object\n",
            "miglitol                    101766 non-null object\n",
            "troglitazone                101766 non-null object\n",
            "tolazamide                  101766 non-null object\n",
            "examide                     101766 non-null object\n",
            "citoglipton                 101766 non-null object\n",
            "insulin                     101766 non-null object\n",
            "glyburide-metformin         101766 non-null object\n",
            "glipizide-metformin         101766 non-null object\n",
            "glimepiride-pioglitazone    101766 non-null object\n",
            "metformin-rosiglitazone     101766 non-null object\n",
            "metformin-pioglitazone      101766 non-null object\n",
            "change                      101766 non-null object\n",
            "diabetesMed                 101766 non-null object\n",
            "readmitted                  101766 non-null object\n",
            "dtypes: int64(13), object(37)\n",
            "memory usage: 38.8+ MB\n"
          ],
          "name": "stdout"
        }
      ]
    },
    {
      "cell_type": "markdown",
      "metadata": {
        "id": "zisRzk6I9s5h",
        "colab_type": "text"
      },
      "source": [
        "By briefly looking at the dataset information we can see that the dataset is a combination of some numeric coloumns and some categorical coloumns.\n",
        "\n",
        "The most important column here is readmitted, which tells us if a patient was hospitalized within 30 days, greater than 30 days or not readmitted."
      ]
    },
    {
      "cell_type": "code",
      "metadata": {
        "id": "RVOVSjIcAQao",
        "colab_type": "code",
        "outputId": "ac2a7fad-9e7e-4042-8a6a-54069dd5c7b8",
        "colab": {
          "base_uri": "https://localhost:8080/",
          "height": 33
        }
      },
      "source": [
        "diabetic.shape"
      ],
      "execution_count": 6,
      "outputs": [
        {
          "output_type": "execute_result",
          "data": {
            "text/plain": [
              "(101766, 50)"
            ]
          },
          "metadata": {
            "tags": []
          },
          "execution_count": 6
        }
      ]
    },
    {
      "cell_type": "code",
      "metadata": {
        "id": "DGijjGDMh5Zh",
        "colab_type": "code",
        "outputId": "19ccd6c6-e4e9-47c6-8e1f-c1c8a1e3cf0d",
        "colab": {
          "base_uri": "https://localhost:8080/",
          "height": 651
        }
      },
      "source": [
        "#Checking for missing values in dataset\n",
        "#In the dataset missing values are represented as '?' sign\n",
        "for col in diabetic.columns:\n",
        "    if diabetic[col].dtype == object:\n",
        "         print(col,diabetic[col][diabetic[col] == '?'].count())\n",
        "        \n",
        "print('gender', diabetic['gender'][diabetic['gender'] == 'Unknown/Invalid'].count()) # gender was coded differently so we use a custom count for this one  "
      ],
      "execution_count": 7,
      "outputs": [
        {
          "output_type": "stream",
          "text": [
            "race 2273\n",
            "gender 0\n",
            "age 0\n",
            "weight 98569\n",
            "payer_code 40256\n",
            "medical_specialty 49949\n",
            "diag_1 21\n",
            "diag_2 358\n",
            "diag_3 1423\n",
            "max_glu_serum 0\n",
            "A1Cresult 0\n",
            "metformin 0\n",
            "repaglinide 0\n",
            "nateglinide 0\n",
            "chlorpropamide 0\n",
            "glimepiride 0\n",
            "acetohexamide 0\n",
            "glipizide 0\n",
            "glyburide 0\n",
            "tolbutamide 0\n",
            "pioglitazone 0\n",
            "rosiglitazone 0\n",
            "acarbose 0\n",
            "miglitol 0\n",
            "troglitazone 0\n",
            "tolazamide 0\n",
            "examide 0\n",
            "citoglipton 0\n",
            "insulin 0\n",
            "glyburide-metformin 0\n",
            "glipizide-metformin 0\n",
            "glimepiride-pioglitazone 0\n",
            "metformin-rosiglitazone 0\n",
            "metformin-pioglitazone 0\n",
            "change 0\n",
            "diabetesMed 0\n",
            "readmitted 0\n",
            "gender 3\n"
          ],
          "name": "stdout"
        }
      ]
    },
    {
      "cell_type": "markdown",
      "metadata": {
        "id": "KPfaNRKOiJDc",
        "colab_type": "text"
      },
      "source": [
        "# Perform Data Scrubbing(handle missing values, scaling, normalization...etc)\n"
      ]
    },
    {
      "cell_type": "markdown",
      "metadata": {
        "id": "iRuCBtiwjHF9",
        "colab_type": "text"
      },
      "source": [
        "feature weight contains approximately 98% of the missing values so there is no significance in filling those missing values so we decided to drop this feature. \n",
        "\n",
        "feature Payer code and medical specialty contains approximately 40% missing values so we dropped theses features to. \n",
        "\n",
        "features like race, diag_1, diag_2, diag_3 and gender contains very less missing values as compared to other attributes which we dropped so for these attributes we also decided to drop those where missing values contains."
      ]
    },
    {
      "cell_type": "code",
      "metadata": {
        "id": "FkOeaeXxjDF5",
        "colab_type": "code",
        "colab": {}
      },
      "source": [
        "#dropping the columns with large number of missing values\n",
        "diabetic = diabetic.drop(['weight','payer_code','medical_specialty'], axis = 1)"
      ],
      "execution_count": 0,
      "outputs": []
    },
    {
      "cell_type": "code",
      "metadata": {
        "id": "fwDKDXN5jsdO",
        "colab_type": "code",
        "colab": {}
      },
      "source": [
        "drop_Idx = set(diabetic[(diabetic['diag_1'] == '?') & (diabetic['diag_2'] == '?') & (diabetic['diag_3'] == '?')].index)\n",
        "\n",
        "drop_Idx = drop_Idx.union(set(diabetic['diag_1'][diabetic['diag_1'] == '?'].index))\n",
        "drop_Idx = drop_Idx.union(set(diabetic['diag_2'][diabetic['diag_2'] == '?'].index))\n",
        "drop_Idx = drop_Idx.union(set(diabetic['diag_3'][diabetic['diag_3'] == '?'].index))\n",
        "drop_Idx = drop_Idx.union(set(diabetic['race'][diabetic['race'] == '?'].index))\n",
        "#drop_Idx = drop_Idx.union(set(diabetic[diabetic['discharge_disposition_id'] == 11].index))\n",
        "drop_Idx = drop_Idx.union(set(diabetic['gender'][diabetic['gender'] == 'Unknown/Invalid'].index))\n",
        "new_Idx = list(set(diabetic.index) - set(drop_Idx))\n",
        "diabetic = diabetic.iloc[new_Idx]"
      ],
      "execution_count": 0,
      "outputs": []
    },
    {
      "cell_type": "markdown",
      "metadata": {
        "id": "CXGNjlYbj5XA",
        "colab_type": "text"
      },
      "source": [
        "features (drugs named citoglipton and examide), all records have the same value. So essentially these cannot provide any interpretive or discriminatory information for predicting readmission so we decided to drop these two features also."
      ]
    },
    {
      "cell_type": "code",
      "metadata": {
        "id": "92Xs6sq5j11_",
        "colab_type": "code",
        "colab": {}
      },
      "source": [
        "diabetic = diabetic.drop(['citoglipton', 'examide'], axis = 1)"
      ],
      "execution_count": 0,
      "outputs": []
    },
    {
      "cell_type": "code",
      "metadata": {
        "id": "J3Oz6F0_kJaG",
        "colab_type": "code",
        "outputId": "b90f4cf9-e038-4186-e4fd-6a0f01b45b4a",
        "colab": {
          "base_uri": "https://localhost:8080/",
          "height": 568
        }
      },
      "source": [
        "#Checking for missing values in the data\n",
        "for col in diabetic.columns:\n",
        "    if diabetic[col].dtype == object:\n",
        "         print(col,diabetic[col][diabetic[col] == '?'].count())\n",
        "            \n",
        "print('gender', diabetic['gender'][diabetic['gender'] == 'Unknown/Invalid'].count())   "
      ],
      "execution_count": 0,
      "outputs": [
        {
          "output_type": "stream",
          "text": [
            "race 0\n",
            "gender 0\n",
            "age 0\n",
            "diag_1 0\n",
            "diag_2 0\n",
            "diag_3 0\n",
            "max_glu_serum 0\n",
            "A1Cresult 0\n",
            "metformin 0\n",
            "repaglinide 0\n",
            "nateglinide 0\n",
            "chlorpropamide 0\n",
            "glimepiride 0\n",
            "acetohexamide 0\n",
            "glipizide 0\n",
            "glyburide 0\n",
            "tolbutamide 0\n",
            "pioglitazone 0\n",
            "rosiglitazone 0\n",
            "acarbose 0\n",
            "miglitol 0\n",
            "troglitazone 0\n",
            "tolazamide 0\n",
            "insulin 0\n",
            "glyburide-metformin 0\n",
            "glipizide-metformin 0\n",
            "glimepiride-pioglitazone 0\n",
            "metformin-rosiglitazone 0\n",
            "metformin-pioglitazone 0\n",
            "change 0\n",
            "diabetesMed 0\n",
            "readmitted 0\n",
            "gender 0\n"
          ],
          "name": "stdout"
        }
      ]
    },
    {
      "cell_type": "markdown",
      "metadata": {
        "id": "goTu9C-UkUUd",
        "colab_type": "text"
      },
      "source": [
        "Let's take a look at the unique values for each column."
      ]
    },
    {
      "cell_type": "code",
      "metadata": {
        "id": "0q9iMFD_kOlA",
        "colab_type": "code",
        "outputId": "b05eb661-4501-4999-dfcf-c4d630432d0a",
        "colab": {
          "base_uri": "https://localhost:8080/",
          "height": 1000
        }
      },
      "source": [
        "# for each column\n",
        "for c in list(diabetic.columns):\n",
        "    \n",
        "    # get a list of unique values\n",
        "    n = diabetic[c].unique()\n",
        "    \n",
        "    # if number of unique values is less than 30, print the values. Otherwise print the number of unique values\n",
        "    if len(n)<30:\n",
        "        print(c)\n",
        "        print(n)\n",
        "    else:\n",
        "        print(c + ': ' +str(len(n)) + ' unique values')"
      ],
      "execution_count": 10,
      "outputs": [
        {
          "output_type": "stream",
          "text": [
            "encounter_id: 98052 unique values\n",
            "patient_nbr: 68629 unique values\n",
            "race\n",
            "['Caucasian' 'AfricanAmerican' 'Other' 'Asian' 'Hispanic']\n",
            "gender\n",
            "['Female' 'Male']\n",
            "age\n",
            "['[10-20)' '[20-30)' '[30-40)' '[40-50)' '[50-60)' '[60-70)' '[70-80)'\n",
            " '[80-90)' '[90-100)' '[0-10)']\n",
            "admission_type_id\n",
            "[1 2 3 6 4 5 8 7]\n",
            "discharge_disposition_id\n",
            "[ 1  3  6  2  5 11  7 25 10  4 14 18  8 13 12 16 17 22 23  9 20 15 24 28\n",
            " 19 27]\n",
            "admission_source_id\n",
            "[ 7  2  4  1  5  6 20  3 17  8  9 14 10 22 11 25 13]\n",
            "time_in_hospital\n",
            "[ 3  2  1  4  5 13 12  9  7 10 11  6  8 14]\n",
            "num_lab_procedures: 118 unique values\n",
            "num_procedures\n",
            "[0 5 1 6 2 3 4]\n",
            "num_medications: 75 unique values\n",
            "number_outpatient: 39 unique values\n",
            "number_emergency: 33 unique values\n",
            "number_inpatient\n",
            "[ 0  1  2  3  6  5  4  7  8  9 15 10 11 14 12 13 16 21 18 19]\n",
            "diag_1: 713 unique values\n",
            "diag_2: 740 unique values\n",
            "diag_3: 786 unique values\n",
            "number_diagnoses\n",
            "[ 9  6  7  5  8  3  4 16 12 13 15 10 11 14]\n",
            "max_glu_serum\n",
            "['None' '>300' 'Norm' '>200']\n",
            "A1Cresult\n",
            "['None' '>7' '>8' 'Norm']\n",
            "metformin\n",
            "['No' 'Steady' 'Up' 'Down']\n",
            "repaglinide\n",
            "['No' 'Up' 'Steady' 'Down']\n",
            "nateglinide\n",
            "['No' 'Steady' 'Down' 'Up']\n",
            "chlorpropamide\n",
            "['No' 'Steady' 'Down' 'Up']\n",
            "glimepiride\n",
            "['No' 'Steady' 'Down' 'Up']\n",
            "acetohexamide\n",
            "['No' 'Steady']\n",
            "glipizide\n",
            "['No' 'Steady' 'Up' 'Down']\n",
            "glyburide\n",
            "['No' 'Steady' 'Up' 'Down']\n",
            "tolbutamide\n",
            "['No' 'Steady']\n",
            "pioglitazone\n",
            "['No' 'Steady' 'Up' 'Down']\n",
            "rosiglitazone\n",
            "['No' 'Steady' 'Up' 'Down']\n",
            "acarbose\n",
            "['No' 'Steady' 'Up' 'Down']\n",
            "miglitol\n",
            "['No' 'Steady' 'Down' 'Up']\n",
            "troglitazone\n",
            "['No' 'Steady']\n",
            "tolazamide\n",
            "['No' 'Steady' 'Up']\n",
            "examide\n",
            "['No']\n",
            "citoglipton\n",
            "['No']\n",
            "insulin\n",
            "['Up' 'No' 'Steady' 'Down']\n",
            "glyburide-metformin\n",
            "['No' 'Steady' 'Down' 'Up']\n",
            "glipizide-metformin\n",
            "['No' 'Steady']\n",
            "glimepiride-pioglitazone\n",
            "['No' 'Steady']\n",
            "metformin-rosiglitazone\n",
            "['No']\n",
            "metformin-pioglitazone\n",
            "['No' 'Steady']\n",
            "change\n",
            "['Ch' 'No']\n",
            "diabetesMed\n",
            "['Yes' 'No']\n",
            "readmitted\n",
            "['>30' 'NO' '<30']\n"
          ],
          "name": "stdout"
        }
      ]
    },
    {
      "cell_type": "markdown",
      "metadata": {
        "id": "cYbN289Zljcs",
        "colab_type": "text"
      },
      "source": [
        "From analysis of the columns, we can see there are a mix of categorical (non-numeric) and numerical data. A few things to point out,\n",
        "\n",
        "encounter_id and patient_nbr: these are just identifiers and not useful variables\n",
        "\n",
        "admission_type_id,discharge_disposition_id,admission_source_id: are numerical here, but are IDs (see IDs_mapping). They should be considered categorical.\n",
        "\n",
        "diag1, diag2, diag3 - are categorical and have a lot of values. We will not use these as part of this project, but you could group these ICD codes to reduce the dimension. We will use number_diagnoses to capture some of this information."
      ]
    },
    {
      "cell_type": "markdown",
      "metadata": {
        "id": "Y47oFwFmllVK",
        "colab_type": "text"
      },
      "source": [
        "# Categorical Features\n",
        "The next type of features we want to create are categorical variables. Categorical variables are non-numeric data such as race and gender. To turn these non-numerical data into variables, the simplest thing is to use a technique called one-hot encoding, which will be explained below.\n",
        "\n",
        "The first set of categorical data we will deal with are these columns:"
      ]
    },
    {
      "cell_type": "code",
      "metadata": {
        "id": "qrT3LmufldKi",
        "colab_type": "code",
        "colab": {}
      },
      "source": [
        "cols_cat = ['race', 'gender']"
      ],
      "execution_count": 0,
      "outputs": []
    },
    {
      "cell_type": "markdown",
      "metadata": {
        "id": "0efmNdYgm2P-",
        "colab_type": "text"
      },
      "source": [
        "To convert our categorical features to numbers, we will use a technique called one-hot encoding. In one-hot encoding, you create a new column for each unique value in that column. Then the value of the column is 1 if the sample has that unique value or 0 otherwise. For example, for the column race, we would create new columns ('race_Caucasian','race_AfricanAmerican', etc). If the patient's race is Caucasian, the patient gets a 1 under 'race_Caucasian' and 0 under the rest of the race columns. To create these one-hot encoding columns, we can use the get_dummies function."
      ]
    },
    {
      "cell_type": "code",
      "metadata": {
        "id": "ZPiZcp2jlw-W",
        "colab_type": "code",
        "colab": {}
      },
      "source": [
        "cols_cat_num = ['admission_type_id', 'discharge_disposition_id', 'admission_source_id']\n",
        "\n",
        "diabetic[cols_cat_num] = diabetic[cols_cat_num].astype('str')"
      ],
      "execution_count": 0,
      "outputs": []
    },
    {
      "cell_type": "markdown",
      "metadata": {
        "id": "wV10Icm4nwwu",
        "colab_type": "text"
      },
      "source": [
        "Now we are ready to make all of our categorical features"
      ]
    },
    {
      "cell_type": "code",
      "metadata": {
        "id": "wYxocQDQnsdP",
        "colab_type": "code",
        "colab": {}
      },
      "source": [
        "diabetic_cat = pd.get_dummies(diabetic[cols_cat + cols_cat_num ],drop_first = True)"
      ],
      "execution_count": 0,
      "outputs": []
    },
    {
      "cell_type": "code",
      "metadata": {
        "id": "xHhGLSrgn4bb",
        "colab_type": "code",
        "colab": {}
      },
      "source": [
        "diabetic_cat = pd.get_dummies(diabetic[cols_cat + cols_cat_num ],drop_first = True)"
      ],
      "execution_count": 0,
      "outputs": []
    },
    {
      "cell_type": "code",
      "metadata": {
        "id": "I2OFlsGxn78R",
        "colab_type": "code",
        "outputId": "bf220c5b-df9a-40ce-a1bb-5ae6bc541e86",
        "colab": {
          "base_uri": "https://localhost:8080/",
          "height": 219
        }
      },
      "source": [
        "diabetic_cat.head()"
      ],
      "execution_count": 15,
      "outputs": [
        {
          "output_type": "execute_result",
          "data": {
            "text/html": [
              "<div>\n",
              "<style scoped>\n",
              "    .dataframe tbody tr th:only-of-type {\n",
              "        vertical-align: middle;\n",
              "    }\n",
              "\n",
              "    .dataframe tbody tr th {\n",
              "        vertical-align: top;\n",
              "    }\n",
              "\n",
              "    .dataframe thead th {\n",
              "        text-align: right;\n",
              "    }\n",
              "</style>\n",
              "<table border=\"1\" class=\"dataframe\">\n",
              "  <thead>\n",
              "    <tr style=\"text-align: right;\">\n",
              "      <th></th>\n",
              "      <th>race_Asian</th>\n",
              "      <th>race_Caucasian</th>\n",
              "      <th>race_Hispanic</th>\n",
              "      <th>race_Other</th>\n",
              "      <th>gender_Male</th>\n",
              "      <th>admission_type_id_2</th>\n",
              "      <th>admission_type_id_3</th>\n",
              "      <th>admission_type_id_4</th>\n",
              "      <th>admission_type_id_5</th>\n",
              "      <th>admission_type_id_6</th>\n",
              "      <th>admission_type_id_7</th>\n",
              "      <th>admission_type_id_8</th>\n",
              "      <th>discharge_disposition_id_10</th>\n",
              "      <th>discharge_disposition_id_11</th>\n",
              "      <th>discharge_disposition_id_12</th>\n",
              "      <th>discharge_disposition_id_13</th>\n",
              "      <th>discharge_disposition_id_14</th>\n",
              "      <th>discharge_disposition_id_15</th>\n",
              "      <th>discharge_disposition_id_16</th>\n",
              "      <th>discharge_disposition_id_17</th>\n",
              "      <th>discharge_disposition_id_18</th>\n",
              "      <th>discharge_disposition_id_19</th>\n",
              "      <th>discharge_disposition_id_2</th>\n",
              "      <th>discharge_disposition_id_20</th>\n",
              "      <th>discharge_disposition_id_22</th>\n",
              "      <th>discharge_disposition_id_23</th>\n",
              "      <th>discharge_disposition_id_24</th>\n",
              "      <th>discharge_disposition_id_25</th>\n",
              "      <th>discharge_disposition_id_27</th>\n",
              "      <th>discharge_disposition_id_28</th>\n",
              "      <th>discharge_disposition_id_3</th>\n",
              "      <th>discharge_disposition_id_4</th>\n",
              "      <th>discharge_disposition_id_5</th>\n",
              "      <th>discharge_disposition_id_6</th>\n",
              "      <th>discharge_disposition_id_7</th>\n",
              "      <th>discharge_disposition_id_8</th>\n",
              "      <th>discharge_disposition_id_9</th>\n",
              "      <th>admission_source_id_10</th>\n",
              "      <th>admission_source_id_11</th>\n",
              "      <th>admission_source_id_13</th>\n",
              "      <th>admission_source_id_14</th>\n",
              "      <th>admission_source_id_17</th>\n",
              "      <th>admission_source_id_2</th>\n",
              "      <th>admission_source_id_20</th>\n",
              "      <th>admission_source_id_22</th>\n",
              "      <th>admission_source_id_25</th>\n",
              "      <th>admission_source_id_3</th>\n",
              "      <th>admission_source_id_4</th>\n",
              "      <th>admission_source_id_5</th>\n",
              "      <th>admission_source_id_6</th>\n",
              "      <th>admission_source_id_7</th>\n",
              "      <th>admission_source_id_8</th>\n",
              "      <th>admission_source_id_9</th>\n",
              "    </tr>\n",
              "  </thead>\n",
              "  <tbody>\n",
              "    <tr>\n",
              "      <th>1</th>\n",
              "      <td>0</td>\n",
              "      <td>1</td>\n",
              "      <td>0</td>\n",
              "      <td>0</td>\n",
              "      <td>0</td>\n",
              "      <td>0</td>\n",
              "      <td>0</td>\n",
              "      <td>0</td>\n",
              "      <td>0</td>\n",
              "      <td>0</td>\n",
              "      <td>0</td>\n",
              "      <td>0</td>\n",
              "      <td>0</td>\n",
              "      <td>0</td>\n",
              "      <td>0</td>\n",
              "      <td>0</td>\n",
              "      <td>0</td>\n",
              "      <td>0</td>\n",
              "      <td>0</td>\n",
              "      <td>0</td>\n",
              "      <td>0</td>\n",
              "      <td>0</td>\n",
              "      <td>0</td>\n",
              "      <td>0</td>\n",
              "      <td>0</td>\n",
              "      <td>0</td>\n",
              "      <td>0</td>\n",
              "      <td>0</td>\n",
              "      <td>0</td>\n",
              "      <td>0</td>\n",
              "      <td>0</td>\n",
              "      <td>0</td>\n",
              "      <td>0</td>\n",
              "      <td>0</td>\n",
              "      <td>0</td>\n",
              "      <td>0</td>\n",
              "      <td>0</td>\n",
              "      <td>0</td>\n",
              "      <td>0</td>\n",
              "      <td>0</td>\n",
              "      <td>0</td>\n",
              "      <td>0</td>\n",
              "      <td>0</td>\n",
              "      <td>0</td>\n",
              "      <td>0</td>\n",
              "      <td>0</td>\n",
              "      <td>0</td>\n",
              "      <td>0</td>\n",
              "      <td>0</td>\n",
              "      <td>0</td>\n",
              "      <td>1</td>\n",
              "      <td>0</td>\n",
              "      <td>0</td>\n",
              "    </tr>\n",
              "    <tr>\n",
              "      <th>2</th>\n",
              "      <td>0</td>\n",
              "      <td>0</td>\n",
              "      <td>0</td>\n",
              "      <td>0</td>\n",
              "      <td>0</td>\n",
              "      <td>0</td>\n",
              "      <td>0</td>\n",
              "      <td>0</td>\n",
              "      <td>0</td>\n",
              "      <td>0</td>\n",
              "      <td>0</td>\n",
              "      <td>0</td>\n",
              "      <td>0</td>\n",
              "      <td>0</td>\n",
              "      <td>0</td>\n",
              "      <td>0</td>\n",
              "      <td>0</td>\n",
              "      <td>0</td>\n",
              "      <td>0</td>\n",
              "      <td>0</td>\n",
              "      <td>0</td>\n",
              "      <td>0</td>\n",
              "      <td>0</td>\n",
              "      <td>0</td>\n",
              "      <td>0</td>\n",
              "      <td>0</td>\n",
              "      <td>0</td>\n",
              "      <td>0</td>\n",
              "      <td>0</td>\n",
              "      <td>0</td>\n",
              "      <td>0</td>\n",
              "      <td>0</td>\n",
              "      <td>0</td>\n",
              "      <td>0</td>\n",
              "      <td>0</td>\n",
              "      <td>0</td>\n",
              "      <td>0</td>\n",
              "      <td>0</td>\n",
              "      <td>0</td>\n",
              "      <td>0</td>\n",
              "      <td>0</td>\n",
              "      <td>0</td>\n",
              "      <td>0</td>\n",
              "      <td>0</td>\n",
              "      <td>0</td>\n",
              "      <td>0</td>\n",
              "      <td>0</td>\n",
              "      <td>0</td>\n",
              "      <td>0</td>\n",
              "      <td>0</td>\n",
              "      <td>1</td>\n",
              "      <td>0</td>\n",
              "      <td>0</td>\n",
              "    </tr>\n",
              "    <tr>\n",
              "      <th>3</th>\n",
              "      <td>0</td>\n",
              "      <td>1</td>\n",
              "      <td>0</td>\n",
              "      <td>0</td>\n",
              "      <td>1</td>\n",
              "      <td>0</td>\n",
              "      <td>0</td>\n",
              "      <td>0</td>\n",
              "      <td>0</td>\n",
              "      <td>0</td>\n",
              "      <td>0</td>\n",
              "      <td>0</td>\n",
              "      <td>0</td>\n",
              "      <td>0</td>\n",
              "      <td>0</td>\n",
              "      <td>0</td>\n",
              "      <td>0</td>\n",
              "      <td>0</td>\n",
              "      <td>0</td>\n",
              "      <td>0</td>\n",
              "      <td>0</td>\n",
              "      <td>0</td>\n",
              "      <td>0</td>\n",
              "      <td>0</td>\n",
              "      <td>0</td>\n",
              "      <td>0</td>\n",
              "      <td>0</td>\n",
              "      <td>0</td>\n",
              "      <td>0</td>\n",
              "      <td>0</td>\n",
              "      <td>0</td>\n",
              "      <td>0</td>\n",
              "      <td>0</td>\n",
              "      <td>0</td>\n",
              "      <td>0</td>\n",
              "      <td>0</td>\n",
              "      <td>0</td>\n",
              "      <td>0</td>\n",
              "      <td>0</td>\n",
              "      <td>0</td>\n",
              "      <td>0</td>\n",
              "      <td>0</td>\n",
              "      <td>0</td>\n",
              "      <td>0</td>\n",
              "      <td>0</td>\n",
              "      <td>0</td>\n",
              "      <td>0</td>\n",
              "      <td>0</td>\n",
              "      <td>0</td>\n",
              "      <td>0</td>\n",
              "      <td>1</td>\n",
              "      <td>0</td>\n",
              "      <td>0</td>\n",
              "    </tr>\n",
              "    <tr>\n",
              "      <th>4</th>\n",
              "      <td>0</td>\n",
              "      <td>1</td>\n",
              "      <td>0</td>\n",
              "      <td>0</td>\n",
              "      <td>1</td>\n",
              "      <td>0</td>\n",
              "      <td>0</td>\n",
              "      <td>0</td>\n",
              "      <td>0</td>\n",
              "      <td>0</td>\n",
              "      <td>0</td>\n",
              "      <td>0</td>\n",
              "      <td>0</td>\n",
              "      <td>0</td>\n",
              "      <td>0</td>\n",
              "      <td>0</td>\n",
              "      <td>0</td>\n",
              "      <td>0</td>\n",
              "      <td>0</td>\n",
              "      <td>0</td>\n",
              "      <td>0</td>\n",
              "      <td>0</td>\n",
              "      <td>0</td>\n",
              "      <td>0</td>\n",
              "      <td>0</td>\n",
              "      <td>0</td>\n",
              "      <td>0</td>\n",
              "      <td>0</td>\n",
              "      <td>0</td>\n",
              "      <td>0</td>\n",
              "      <td>0</td>\n",
              "      <td>0</td>\n",
              "      <td>0</td>\n",
              "      <td>0</td>\n",
              "      <td>0</td>\n",
              "      <td>0</td>\n",
              "      <td>0</td>\n",
              "      <td>0</td>\n",
              "      <td>0</td>\n",
              "      <td>0</td>\n",
              "      <td>0</td>\n",
              "      <td>0</td>\n",
              "      <td>0</td>\n",
              "      <td>0</td>\n",
              "      <td>0</td>\n",
              "      <td>0</td>\n",
              "      <td>0</td>\n",
              "      <td>0</td>\n",
              "      <td>0</td>\n",
              "      <td>0</td>\n",
              "      <td>1</td>\n",
              "      <td>0</td>\n",
              "      <td>0</td>\n",
              "    </tr>\n",
              "    <tr>\n",
              "      <th>5</th>\n",
              "      <td>0</td>\n",
              "      <td>1</td>\n",
              "      <td>0</td>\n",
              "      <td>0</td>\n",
              "      <td>1</td>\n",
              "      <td>1</td>\n",
              "      <td>0</td>\n",
              "      <td>0</td>\n",
              "      <td>0</td>\n",
              "      <td>0</td>\n",
              "      <td>0</td>\n",
              "      <td>0</td>\n",
              "      <td>0</td>\n",
              "      <td>0</td>\n",
              "      <td>0</td>\n",
              "      <td>0</td>\n",
              "      <td>0</td>\n",
              "      <td>0</td>\n",
              "      <td>0</td>\n",
              "      <td>0</td>\n",
              "      <td>0</td>\n",
              "      <td>0</td>\n",
              "      <td>0</td>\n",
              "      <td>0</td>\n",
              "      <td>0</td>\n",
              "      <td>0</td>\n",
              "      <td>0</td>\n",
              "      <td>0</td>\n",
              "      <td>0</td>\n",
              "      <td>0</td>\n",
              "      <td>0</td>\n",
              "      <td>0</td>\n",
              "      <td>0</td>\n",
              "      <td>0</td>\n",
              "      <td>0</td>\n",
              "      <td>0</td>\n",
              "      <td>0</td>\n",
              "      <td>0</td>\n",
              "      <td>0</td>\n",
              "      <td>0</td>\n",
              "      <td>0</td>\n",
              "      <td>0</td>\n",
              "      <td>1</td>\n",
              "      <td>0</td>\n",
              "      <td>0</td>\n",
              "      <td>0</td>\n",
              "      <td>0</td>\n",
              "      <td>0</td>\n",
              "      <td>0</td>\n",
              "      <td>0</td>\n",
              "      <td>0</td>\n",
              "      <td>0</td>\n",
              "      <td>0</td>\n",
              "    </tr>\n",
              "  </tbody>\n",
              "</table>\n",
              "</div>"
            ],
            "text/plain": [
              "   race_Asian  race_Caucasian  ...  admission_source_id_8  admission_source_id_9\n",
              "1           0               1  ...                      0                      0\n",
              "2           0               0  ...                      0                      0\n",
              "3           0               1  ...                      0                      0\n",
              "4           0               1  ...                      0                      0\n",
              "5           0               1  ...                      0                      0\n",
              "\n",
              "[5 rows x 53 columns]"
            ]
          },
          "metadata": {
            "tags": []
          },
          "execution_count": 15
        }
      ]
    },
    {
      "cell_type": "markdown",
      "metadata": {
        "id": "xqgxdEHZoaJq",
        "colab_type": "text"
      },
      "source": [
        "To add the one-hot encoding columns to the dataframe we can use concat function. Make sure to use axis = 1 to indicate add the columns."
      ]
    },
    {
      "cell_type": "code",
      "metadata": {
        "id": "rb6c7m9poa9s",
        "colab_type": "code",
        "colab": {}
      },
      "source": [
        "diabetic = pd.concat([diabetic,diabetic_cat], axis = 1)"
      ],
      "execution_count": 0,
      "outputs": []
    },
    {
      "cell_type": "markdown",
      "metadata": {
        "id": "aJYpeI3sokBl",
        "colab_type": "text"
      },
      "source": [
        "Save the column names of the categorical data."
      ]
    },
    {
      "cell_type": "code",
      "metadata": {
        "id": "8ITTrL4pohCv",
        "colab_type": "code",
        "colab": {}
      },
      "source": [
        "cols_all_cat = list(diabetic_cat.columns)"
      ],
      "execution_count": 0,
      "outputs": []
    },
    {
      "cell_type": "markdown",
      "metadata": {
        "id": "g3I7WO1No0zd",
        "colab_type": "text"
      },
      "source": [
        "Number of medication changes: The dataset contains 23 features for 23 drugs (or combos) which indicate for each of these, whether a change in that medication was made or not during the current hospital stay of patient. Medication change for diabetics upon admission has been shown by previous research to be associated with lower readmission rates. We decided to count how many changes were made in total for each patient, and declared that a new feature. The reasoning here was to both simplify the model and possibly discover a relationship with number of changes regardless of which drug was changed."
      ]
    },
    {
      "cell_type": "code",
      "metadata": {
        "id": "dhAuSNUCox_T",
        "colab_type": "code",
        "colab": {}
      },
      "source": [
        "keys = ['metformin', 'repaglinide', 'nateglinide', 'chlorpropamide', 'glimepiride', 'glipizide', 'glyburide', 'pioglitazone', 'rosiglitazone', 'acarbose', 'miglitol', 'insulin', 'glyburide-metformin', 'tolazamide', 'metformin-pioglitazone','metformin-rosiglitazone', 'glimepiride-pioglitazone', 'glipizide-metformin', 'troglitazone', 'tolbutamide', 'acetohexamide']\n",
        "# keys is the same as before\n",
        "for col in keys:\n",
        "    diabetic[col] = diabetic[col].replace('No', 0)\n",
        "    diabetic[col] = diabetic[col].replace('Steady', 1)\n",
        "    diabetic[col] = diabetic[col].replace('Up', 2)\n",
        "    diabetic[col] = diabetic[col].replace('Down', 3)"
      ],
      "execution_count": 0,
      "outputs": []
    },
    {
      "cell_type": "markdown",
      "metadata": {
        "id": "Q2zv3yNApGkh",
        "colab_type": "text"
      },
      "source": [
        "Encoding some variables: The original dataset used string values for gender, race, medication change, and each of the 23 drugs used. To better fit those variables into our model, we interpret the variables to numeric binary variables to reflect their nature. For example, we encoded the “ medication change ” feature from “No” (no change) and “Ch” (changed) into 0 and 1."
      ]
    },
    {
      "cell_type": "code",
      "metadata": {
        "id": "_ceY9dO1pD2i",
        "colab_type": "code",
        "colab": {}
      },
      "source": [
        "diabetic['change'] = diabetic['change'].replace('Ch', 1)\n",
        "diabetic['change'] = diabetic['change'].replace('No', 0)\n",
        "diabetic['diabetesMed'] = diabetic['diabetesMed'].replace('Yes', 1)\n",
        "diabetic['diabetesMed'] = diabetic['diabetesMed'].replace('No', 0)"
      ],
      "execution_count": 0,
      "outputs": []
    },
    {
      "cell_type": "markdown",
      "metadata": {
        "id": "PIBbqga0pTWX",
        "colab_type": "text"
      },
      "source": [
        "We also reduced both A1C test result and Glucose serum test result into categories of Normal, Abnormal and Not tested."
      ]
    },
    {
      "cell_type": "code",
      "metadata": {
        "id": "omyXMzXipSyb",
        "colab_type": "code",
        "colab": {}
      },
      "source": [
        "diabetic['A1Cresult'] = diabetic['A1Cresult'].replace('>7', 1)\n",
        "diabetic['A1Cresult'] = diabetic['A1Cresult'].replace('>8', 1)\n",
        "diabetic['A1Cresult'] = diabetic['A1Cresult'].replace('Norm', 0)\n",
        "diabetic['A1Cresult'] = diabetic['A1Cresult'].replace('None', 2)\n",
        "diabetic['max_glu_serum'] = diabetic['max_glu_serum'].replace('>200', 1)\n",
        "diabetic['max_glu_serum'] = diabetic['max_glu_serum'].replace('>300', 1)\n",
        "diabetic['max_glu_serum'] = diabetic['max_glu_serum'].replace('Norm', 0)\n",
        "diabetic['max_glu_serum'] = diabetic['max_glu_serum'].replace('None', 2)"
      ],
      "execution_count": 0,
      "outputs": []
    },
    {
      "cell_type": "markdown",
      "metadata": {
        "id": "hE8u29Mjplvg",
        "colab_type": "text"
      },
      "source": [
        "Dealing with age: There are different ways to deal with this. The dataset only gives us age as 10 year categories, so we don’t know the exact age of each patient. The previous study on this dataset used age categories as nominal variables, but we wanted to be able to see the effect of increasing age on readmission, even if in a crude way. To do that, we assume that age of the patient on average lies at the midpoint of the age category. For example, if the patient’s age category is 20–30 years, then we assume the age = 25 years. So we converted age categories to midpoints, resulting in a numeric variable:"
      ]
    },
    {
      "cell_type": "code",
      "metadata": {
        "id": "HvVhJYS2pjG2",
        "colab_type": "code",
        "outputId": "1b38eb1c-c293-4f80-8d88-992a9cd39734",
        "colab": {
          "base_uri": "https://localhost:8080/",
          "height": 200
        }
      },
      "source": [
        "# code age intervals [0-10) - [90-100) from 1-10\n",
        "for i in range(0,10):\n",
        "    diabetic['age'] = diabetic['age'].replace('['+str(10*i)+'-'+str(10*(i+1))+')', i+1)\n",
        "diabetic['age'].value_counts()"
      ],
      "execution_count": 21,
      "outputs": [
        {
          "output_type": "execute_result",
          "data": {
            "text/plain": [
              "8     25305\n",
              "7     21809\n",
              "9     16702\n",
              "6     16697\n",
              "5      9265\n",
              "4      3548\n",
              "10     2717\n",
              "3      1478\n",
              "2       466\n",
              "1        65\n",
              "Name: age, dtype: int64"
            ]
          },
          "metadata": {
            "tags": []
          },
          "execution_count": 21
        }
      ]
    },
    {
      "cell_type": "code",
      "metadata": {
        "id": "CTTERM0_pu8g",
        "colab_type": "code",
        "colab": {}
      },
      "source": [
        "diabetic['diag_1'] = diabetic['diag_1'].str.replace('V', '')\n",
        "diabetic['diag_2'] = diabetic['diag_2'].str.replace('V', '')\n",
        "diabetic['diag_3'] = diabetic['diag_3'].str.replace('V', '')\n",
        "diabetic['diag_1'] = diabetic['diag_1'].str.replace('E', '')\n",
        "diabetic['diag_2'] = diabetic['diag_2'].str.replace('E', '')\n",
        "diabetic['diag_3'] = diabetic['diag_3'].str.replace('E', '')\n",
        "diabetic['diag_1'] = diabetic['diag_1'].astype(float)\n",
        "diabetic['diag_2'] = diabetic['diag_2'].astype(float)\n",
        "diabetic['diag_3'] = diabetic['diag_3'].astype(float)"
      ],
      "execution_count": 0,
      "outputs": []
    },
    {
      "cell_type": "markdown",
      "metadata": {
        "id": "FdD95v2cp0Ga",
        "colab_type": "text"
      },
      "source": [
        "Collapsing of Multiple Encounters for same patient Some patients in the dataset had more than one encounter.We could not count them as independent encounters because that bias the results towards those patients who had multiple encounters. Thus we tried multiple techniques to collapse and consolidate multiple encounters for same patient such as:\n",
        "\n",
        "Considering more than 2 readmissions across multiple encounters as readmission for collapsed record. Considering average stay at hospital across multiple encounters. Considering the percentage of the medication changes across multiple encounters Considering the total number of the encounters to replace the encounter unique ID Considering the combination of diagnoses across multiple encounters as a list However, taking the features such as “diagnosis”, for instance, we did not find it not meaningful to combine multiple categorical values into an array for building data model. We then considered first encounter and last encounter separately as possible representations of multiple encounters. However, last encounters gave extremely imbalanced data for readmissions (96/4 Readmissions vs No Readmissions) and thus, we decided to use first encounters of patients with multiple encounters. This resulted in dataset being reduced to about 70,000 encounters:"
      ]
    },
    {
      "cell_type": "code",
      "metadata": {
        "id": "qr9iNnslp0ht",
        "colab_type": "code",
        "outputId": "539a22a9-c5bc-4f5f-afa5-3e45ab8278f1",
        "colab": {
          "base_uri": "https://localhost:8080/",
          "height": 33
        }
      },
      "source": [
        "diabetic = diabetic.drop_duplicates(subset= ['patient_nbr'], keep = 'first')\n",
        "diabetic.shape\n"
      ],
      "execution_count": 23,
      "outputs": [
        {
          "output_type": "execute_result",
          "data": {
            "text/plain": [
              "(68629, 100)"
            ]
          },
          "metadata": {
            "tags": []
          },
          "execution_count": 23
        }
      ]
    },
    {
      "cell_type": "markdown",
      "metadata": {
        "id": "KyBchlPBqGvd",
        "colab_type": "text"
      },
      "source": [
        "Encoding the outcome variable: The outcome we are looking at is whether the patient gets readmitted to the hospital within 30 days or not. The variable actually has < 30, > 30 and No Readmission categories. To reduce our problem to a binary classification, we combined the readmission after 30 days and no readmission into a single category:"
      ]
    },
    {
      "cell_type": "code",
      "metadata": {
        "id": "TVHlDKGjp_SA",
        "colab_type": "code",
        "outputId": "7abf1172-58f6-4f0f-824e-aa0a2cecb927",
        "colab": {
          "base_uri": "https://localhost:8080/",
          "height": 83
        }
      },
      "source": [
        "diabetic['readmitted'].value_counts()"
      ],
      "execution_count": 24,
      "outputs": [
        {
          "output_type": "execute_result",
          "data": {
            "text/plain": [
              "NO     40879\n",
              ">30    21624\n",
              "<30     6126\n",
              "Name: readmitted, dtype: int64"
            ]
          },
          "metadata": {
            "tags": []
          },
          "execution_count": 24
        }
      ]
    },
    {
      "cell_type": "markdown",
      "metadata": {
        "id": "0ZkwSL_PqPvC",
        "colab_type": "text"
      },
      "source": [
        "Now let's define an output variable for our binary classification. Here we will try to predict if a patient is likely to be re-admitted within 30 days of discharge."
      ]
    },
    {
      "cell_type": "code",
      "metadata": {
        "id": "UTNgKK7SqNS0",
        "colab_type": "code",
        "colab": {}
      },
      "source": [
        "diabetic['OUTPUT_LABEL'] = (diabetic.readmitted == '<30').astype('int')"
      ],
      "execution_count": 0,
      "outputs": []
    },
    {
      "cell_type": "markdown",
      "metadata": {
        "id": "slUMOhwVqais",
        "colab_type": "text"
      },
      "source": [
        "Let's define a function to calculate the prevalence of population that is readmitted with 30 days."
      ]
    },
    {
      "cell_type": "code",
      "metadata": {
        "id": "8ukuPXKjqVM-",
        "colab_type": "code",
        "outputId": "8d1cb567-b232-4926-8d88-547dcc2c69ca",
        "colab": {
          "base_uri": "https://localhost:8080/",
          "height": 33
        }
      },
      "source": [
        "def calc_prevalence(y_actual):\n",
        "    return (sum(y_actual)/len(y_actual))\n",
        "\n",
        "print('Prevalence:%.3f'%calc_prevalence(diabetic['OUTPUT_LABEL'].values))"
      ],
      "execution_count": 26,
      "outputs": [
        {
          "output_type": "stream",
          "text": [
            "Prevalence:0.089\n"
          ],
          "name": "stdout"
        }
      ]
    },
    {
      "cell_type": "markdown",
      "metadata": {
        "id": "QiLKM7PjqkmQ",
        "colab_type": "text"
      },
      "source": [
        "Around 9% of the population is rehospitalized. This represented an imbalanced classification problem so we will address that below"
      ]
    },
    {
      "cell_type": "markdown",
      "metadata": {
        "id": "aIOB9K6OrAVi",
        "colab_type": "text"
      },
      "source": [
        "# Data Visualization\n",
        "**Distribution of Readmission Our target variable is imbalance. Number of readmitted patient are quite less as compared to Not readmitted**"
      ]
    },
    {
      "cell_type": "code",
      "metadata": {
        "id": "OhlplK9MrIRS",
        "colab_type": "code",
        "outputId": "6dcf4425-ba26-4bd7-8f17-e4382d050f3b",
        "colab": {
          "base_uri": "https://localhost:8080/",
          "height": 319
        }
      },
      "source": [
        "# Distribution of Readmission \n",
        "sns.countplot(diabetic['OUTPUT_LABEL']).set_title('Distrinution of Readmission')"
      ],
      "execution_count": 27,
      "outputs": [
        {
          "output_type": "execute_result",
          "data": {
            "text/plain": [
              "Text(0.5, 1.0, 'Distrinution of Readmission')"
            ]
          },
          "metadata": {
            "tags": []
          },
          "execution_count": 27
        },
        {
          "output_type": "display_data",
          "data": {
            "image/png": "[encoded data removed]",
            "text/plain": [
              "<Figure size 432x288 with 1 Axes>"
            ]
          },
          "metadata": {
            "tags": []
          }
        }
      ]
    },
    {
      "cell_type": "markdown",
      "metadata": {
        "id": "kt1tJz-RwyI0",
        "colab_type": "text"
      },
      "source": [
        "Time in Hospital and Readmission"
      ]
    },
    {
      "cell_type": "code",
      "metadata": {
        "id": "5uCsu2mgql9w",
        "colab_type": "code",
        "outputId": "075286b9-6dca-4586-8646-2a2ce29db67a",
        "colab": {
          "base_uri": "https://localhost:8080/",
          "height": 482
        }
      },
      "source": [
        "fig = plt.figure(figsize=(13,7),)\n",
        "ax=sns.kdeplot(diabetic.loc[(diabetic['OUTPUT_LABEL'] == 0),'time_in_hospital'] , color='b',shade=True,label='Not Readmitted')\n",
        "ax=sns.kdeplot(diabetic.loc[(diabetic['OUTPUT_LABEL'] == 1),'time_in_hospital'] , color='r',shade=True, label='Readmitted')\n",
        "ax.set(xlabel='Time in Hospital', ylabel='Frequency')\n",
        "plt.title('Time in Hospital VS. Readmission')"
      ],
      "execution_count": 28,
      "outputs": [
        {
          "output_type": "execute_result",
          "data": {
            "text/plain": [
              "Text(0.5, 1.0, 'Time in Hospital VS. Readmission')"
            ]
          },
          "metadata": {
            "tags": []
          },
          "execution_count": 28
        },
        {
          "output_type": "display_data",
          "data": {
            "image/png": "[encoded data removed]",
            "text/plain": [
              "<Figure size 936x504 with 1 Axes>"
            ]
          },
          "metadata": {
            "tags": []
          }
        }
      ]
    },
    {
      "cell_type": "markdown",
      "metadata": {
        "id": "oOGg6oOtw_UG",
        "colab_type": "text"
      },
      "source": [
        "Plotting between Time and Readmission"
      ]
    },
    {
      "cell_type": "code",
      "metadata": {
        "id": "05CnvTqGw5TJ",
        "colab_type": "code",
        "outputId": "4c44244c-e902-4bf7-aa22-2b63269da326",
        "colab": {
          "base_uri": "https://localhost:8080/",
          "height": 646
        }
      },
      "source": [
        "fig = plt.figure(figsize=(15,10))\n",
        "sns.countplot(y= diabetic['age'], hue = diabetic['OUTPUT_LABEL']).set_title('Age of Patient VS. Readmission')"
      ],
      "execution_count": 29,
      "outputs": [
        {
          "output_type": "execute_result",
          "data": {
            "text/plain": [
              "Text(0.5, 1.0, 'Age of Patient VS. Readmission')"
            ]
          },
          "metadata": {
            "tags": []
          },
          "execution_count": 29
        },
        {
          "output_type": "display_data",
          "data": {
            "image/png": "[encoded data removed]",
            "text/plain": [
              "<Figure size 1080x720 with 1 Axes>"
            ]
          },
          "metadata": {
            "tags": []
          }
        }
      ]
    },
    {
      "cell_type": "code",
      "metadata": {
        "id": "t0jnnkblxdrC",
        "colab_type": "code",
        "outputId": "c757197e-1a50-4bf2-c79a-47679c4da9e0",
        "colab": {
          "base_uri": "https://localhost:8080/",
          "height": 217
        }
      },
      "source": [
        "corr_matrix = diabetic.corr()\n",
        "corr_matrix[\"OUTPUT_LABEL\"].sort_values(ascending=False)"
      ],
      "execution_count": 0,
      "outputs": [
        {
          "output_type": "execute_result",
          "data": {
            "text/plain": [
              "OUTPUT_LABEL                   1.000000\n",
              "number_inpatient               0.099698\n",
              "discharge_disposition_id_22    0.088348\n",
              "discharge_disposition_id_3     0.057535\n",
              "time_in_hospital               0.052030\n",
              "                                 ...   \n",
              "diag_1                        -0.015372\n",
              "discharge_disposition_id_11   -0.039080\n",
              "encounter_id                  -0.048829\n",
              "glimepiride-pioglitazone            NaN\n",
              "metformin-rosiglitazone             NaN\n",
              "Name: OUTPUT_LABEL, Length: 93, dtype: float64"
            ]
          },
          "metadata": {
            "tags": []
          },
          "execution_count": 33
        }
      ]
    },
    {
      "cell_type": "markdown",
      "metadata": {
        "id": "RwYQxvkgxJ1i",
        "colab_type": "text"
      },
      "source": [
        "# Models:\n",
        "\n",
        "We are using following function to evaluate the performance of the model"
      ]
    },
    {
      "cell_type": "code",
      "metadata": {
        "id": "R-T4oLAPx3sK",
        "colab_type": "code",
        "colab": {}
      },
      "source": [
        "from sklearn.metrics import roc_auc_score, accuracy_score, precision_score, recall_score\n",
        "\n",
        "def calc_specificity(y_actual, y_pred, thresh):\n",
        "    # calculates specificity\n",
        "    return sum((y_pred < thresh) & (y_actual == 0)) /sum(y_actual ==0)\n",
        "\n",
        "def print_report(y_actual, y_pred, thresh):\n",
        "    \n",
        "    auc = roc_auc_score(y_actual, y_pred)\n",
        "    accuracy = accuracy_score(y_actual, (y_pred > thresh))\n",
        "    recall = recall_score(y_actual, (y_pred > thresh))\n",
        "    precision = precision_score(y_actual, (y_pred > thresh))\n",
        "    specificity = calc_specificity(y_actual, y_pred, thresh)\n",
        "    print('AUC:%.3f'%auc)\n",
        "    print('accuracy:%.3f'%accuracy)\n",
        "    print('recall:%.3f'%recall)\n",
        "    print('precision:%.3f'%precision)\n",
        "    print('specificity:%.3f'%specificity)\n",
        "    print(' ')\n",
        "    return auc, accuracy, recall, precision, specificity"
      ],
      "execution_count": 0,
      "outputs": []
    },
    {
      "cell_type": "markdown",
      "metadata": {
        "id": "8l-ofT5VySQU",
        "colab_type": "text"
      },
      "source": [
        "Since we balanced our training data, let's set our threshold at 0.5 to label a predicted sample as positive."
      ]
    },
    {
      "cell_type": "code",
      "metadata": {
        "id": "KGYveosSyM1q",
        "colab_type": "code",
        "colab": {}
      },
      "source": [
        "thresh = 0.5"
      ],
      "execution_count": 0,
      "outputs": []
    },
    {
      "cell_type": "code",
      "metadata": {
        "id": "ON6QQNN2yWcU",
        "colab_type": "code",
        "colab": {}
      },
      "source": [
        "feature = ['age', 'race_Asian',\t'race_Caucasian',\t'race_Hispanic','race_Other',\t'gender_Male','admission_type_id_2','admission_type_id_3','admission_type_id_4','admission_type_id_5','admission_type_id_6','admission_type_id_7','admission_type_id_8','discharge_disposition_id_10','discharge_disposition_id_11','discharge_disposition_id_12','discharge_disposition_id_13','discharge_disposition_id_14','discharge_disposition_id_15','discharge_disposition_id_16','discharge_disposition_id_17','discharge_disposition_id_18','discharge_disposition_id_19','discharge_disposition_id_2','discharge_disposition_id_20','discharge_disposition_id_22','discharge_disposition_id_23','discharge_disposition_id_24','discharge_disposition_id_25','discharge_disposition_id_27','discharge_disposition_id_28','discharge_disposition_id_3','discharge_disposition_id_4','discharge_disposition_id_5','discharge_disposition_id_6','discharge_disposition_id_7','discharge_disposition_id_8','discharge_disposition_id_9','admission_source_id_10','admission_source_id_11','admission_source_id_13','admission_source_id_14','admission_source_id_17','admission_source_id_2','admission_source_id_20','admission_source_id_22','admission_source_id_25','admission_source_id_3','admission_source_id_4','admission_source_id_5',\t'admission_source_id_6',\t'admission_source_id_7',\t'admission_source_id_8','admission_source_id_9','time_in_hospital', 'num_lab_procedures','num_procedures', 'num_medications', 'number_outpatient', \n",
        "                 'number_emergency', 'number_inpatient', 'number_diagnoses', \n",
        "                 'metformin', 'repaglinide', 'nateglinide', 'chlorpropamide', 'glimepiride', 'glipizide', 'glyburide', 'pioglitazone', 'rosiglitazone', 'acarbose', 'miglitol', 'insulin', 'glyburide-metformin', 'tolazamide', 'metformin-pioglitazone','metformin-rosiglitazone', 'glimepiride-pioglitazone', 'glipizide-metformin', 'troglitazone', 'tolbutamide', 'acetohexamide',\n",
        "                  'max_glu_serum', 'A1Cresult', 'diag_1','diag_2','diag_3']"
      ],
      "execution_count": 0,
      "outputs": []
    },
    {
      "cell_type": "code",
      "metadata": {
        "id": "5W7VhE0DybMN",
        "colab_type": "code",
        "outputId": "51c75b83-32e9-4634-9dc7-98229f33fa99",
        "colab": {
          "base_uri": "https://localhost:8080/",
          "height": 33
        }
      },
      "source": [
        "X = diabetic[feature]\n",
        "y = diabetic['OUTPUT_LABEL']\n",
        "all = pd.concat([X, y], axis=1) \n",
        "# shuffle the samples\n",
        "all = all.sample(n = len(all), random_state = 42)\n",
        "all = all.reset_index(drop = True)\n",
        "# Save 30% of the data as validation and test data \n",
        "df_valid_test=all.sample(frac=0.30,random_state=42)\n",
        "print('Split size: %.3f'%(len(df_valid_test)/len(all)))\n",
        "df_test = df_valid_test.sample(frac = 0.5, random_state = 42)\n",
        "df_valid = df_valid_test.drop(df_test.index)\n",
        "#use the rest of the data as training data\n",
        "df_train_all=all.drop(df_valid_test.index)"
      ],
      "execution_count": 33,
      "outputs": [
        {
          "output_type": "stream",
          "text": [
            "Split size: 0.300\n"
          ],
          "name": "stdout"
        }
      ]
    },
    {
      "cell_type": "code",
      "metadata": {
        "id": "V8e2WeN6yk9S",
        "colab_type": "code",
        "outputId": "23c8db1d-d64f-46d9-cf38-e02bf3d0733c",
        "colab": {
          "base_uri": "https://localhost:8080/",
          "height": 33
        }
      },
      "source": [
        "#split the training data into positive and negative\n",
        "rows_pos = all.OUTPUT_LABEL == 1\n",
        "X_train_pos = all.loc[rows_pos]\n",
        "X_train_neg =all.loc[~rows_pos]\n",
        "\n",
        "# merge the balanced data\n",
        "df_train = pd.concat([X_train_pos, X_train_neg.sample(n = len(X_train_pos), random_state = 42)],axis = 0)\n",
        "\n",
        "# shuffle the order of training samples \n",
        "X_train = df_train.sample(n = len(df_train), random_state = 42).reset_index(drop = True)\n",
        "\n",
        "print('Train balanced prevalence(n = %d):%.3f'%(len(X_train), calc_prevalence(df_train.OUTPUT_LABEL.values)))"
      ],
      "execution_count": 34,
      "outputs": [
        {
          "output_type": "stream",
          "text": [
            "Train balanced prevalence(n = 12252):0.500\n"
          ],
          "name": "stdout"
        }
      ]
    },
    {
      "cell_type": "code",
      "metadata": {
        "id": "QB7h0xKWytN6",
        "colab_type": "code",
        "outputId": "6ddec453-a29c-4d97-f889-8b745c6fe965",
        "colab": {
          "base_uri": "https://localhost:8080/",
          "height": 67
        }
      },
      "source": [
        "X_train = df_train[feature].values\n",
        "X_train_all = df_train_all[feature].values\n",
        "X_valid = df_valid[feature].values\n",
        "\n",
        "y_train = df_train['OUTPUT_LABEL'].values\n",
        "y_valid = df_valid['OUTPUT_LABEL'].values\n",
        "\n",
        "print('Training All shapes:',X_train_all.shape)\n",
        "print('Training shapes:',X_train.shape, y_train.shape)\n",
        "print('Validation shapes:',X_valid.shape, y_valid.shape)"
      ],
      "execution_count": 35,
      "outputs": [
        {
          "output_type": "stream",
          "text": [
            "Training All shapes: (48040, 88)\n",
            "Training shapes: (12252, 88) (12252,)\n",
            "Validation shapes: (10295, 88) (10295,)\n"
          ],
          "name": "stdout"
        }
      ]
    },
    {
      "cell_type": "code",
      "metadata": {
        "id": "MuLb9db-yyAR",
        "colab_type": "code",
        "colab": {}
      },
      "source": [
        "from sklearn.preprocessing import StandardScaler\n",
        "scaler = StandardScaler()\n",
        "scaler.fit_transform(X_train_all)\n",
        "X_train_sc= scaler.fit_transform(X_train)\n",
        "X_valid_sc= scaler.fit_transform(X_valid)"
      ],
      "execution_count": 0,
      "outputs": []
    },
    {
      "cell_type": "markdown",
      "metadata": {
        "id": "2WjFo5Xn_5nz",
        "colab_type": "text"
      },
      "source": [
        "## SVM"
      ]
    },
    {
      "cell_type": "code",
      "metadata": {
        "id": "qG4g5C1sy3NJ",
        "colab_type": "code",
        "outputId": "5d1a5589-7378-43a0-df0d-1a017f27f6ae",
        "colab": {
          "base_uri": "https://localhost:8080/",
          "height": 100
        }
      },
      "source": [
        "from sklearn import svm\n",
        "clf=svm.LinearSVC(C=1,loss=\"hinge\")\n",
        "clf.fit(X_train_sc,y_train)"
      ],
      "execution_count": 37,
      "outputs": [
        {
          "output_type": "stream",
          "text": [
            "/usr/local/lib/python3.6/dist-packages/sklearn/svm/_base.py:947: ConvergenceWarning: Liblinear failed to converge, increase the number of iterations.\n",
            "  \"the number of iterations.\", ConvergenceWarning)\n"
          ],
          "name": "stderr"
        },
        {
          "output_type": "execute_result",
          "data": {
            "text/plain": [
              "LinearSVC(C=1, class_weight=None, dual=True, fit_intercept=True,\n",
              "          intercept_scaling=1, loss='hinge', max_iter=1000, multi_class='ovr',\n",
              "          penalty='l2', random_state=None, tol=0.0001, verbose=0)"
            ]
          },
          "metadata": {
            "tags": []
          },
          "execution_count": 37
        }
      ]
    },
    {
      "cell_type": "code",
      "metadata": {
        "id": "GVQFqF3ly7Cj",
        "colab_type": "code",
        "outputId": "c3bb92a7-2aa0-4091-9284-b00478677930",
        "colab": {
          "base_uri": "https://localhost:8080/",
          "height": 267
        }
      },
      "source": [
        "y_train_preds = clf._predict_proba_lr(X_train_sc)[:,1]\n",
        "y_valid_preds = clf._predict_proba_lr(X_valid_sc)[:,1]\n",
        "\n",
        "print('LinearSVC')\n",
        "print('Training:')\n",
        "sv_train_auc, sv_train_accuracy, sv_train_recall, sv_train_precision, sv_train_specificity =print_report(y_train,y_train_preds, thresh)\n",
        "print('Validation:')\n",
        "sv_valid_auc, sv_valid_accuracy, sv_valid_recall, sv_valid_precision, sv_valid_specificity= print_report(y_valid,y_valid_preds, thresh)"
      ],
      "execution_count": 38,
      "outputs": [
        {
          "output_type": "stream",
          "text": [
            "LinearSVC\n",
            "Training:\n",
            "AUC:0.634\n",
            "accuracy:0.598\n",
            "recall:0.432\n",
            "precision:0.647\n",
            "specificity:0.764\n",
            " \n",
            "Validation:\n",
            "AUC:0.646\n",
            "accuracy:0.699\n",
            "recall:0.507\n",
            "precision:0.144\n",
            "specificity:0.717\n",
            " \n"
          ],
          "name": "stdout"
        }
      ]
    },
    {
      "cell_type": "code",
      "metadata": {
        "id": "FTUTdmH6y_ci",
        "colab_type": "code",
        "outputId": "ca6a3362-b50d-42e2-ee61-446525a3f5c3",
        "colab": {
          "base_uri": "https://localhost:8080/",
          "height": 117
        }
      },
      "source": [
        "from sklearn.linear_model import SGDClassifier\n",
        "sgdc=SGDClassifier(loss = 'log',alpha = 0.1,random_state = 42)\n",
        "sgdc.fit(X_train_sc, y_train)"
      ],
      "execution_count": 39,
      "outputs": [
        {
          "output_type": "execute_result",
          "data": {
            "text/plain": [
              "SGDClassifier(alpha=0.1, average=False, class_weight=None, early_stopping=False,\n",
              "              epsilon=0.1, eta0=0.0, fit_intercept=True, l1_ratio=0.15,\n",
              "              learning_rate='optimal', loss='log', max_iter=1000,\n",
              "              n_iter_no_change=5, n_jobs=None, penalty='l2', power_t=0.5,\n",
              "              random_state=42, shuffle=True, tol=0.001, validation_fraction=0.1,\n",
              "              verbose=0, warm_start=False)"
            ]
          },
          "metadata": {
            "tags": []
          },
          "execution_count": 39
        }
      ]
    },
    {
      "cell_type": "markdown",
      "metadata": {
        "id": "6MxHRF6vAXIX",
        "colab_type": "text"
      },
      "source": [
        "## Stochastic Gradient Descend"
      ]
    },
    {
      "cell_type": "code",
      "metadata": {
        "id": "DhwCrmrwzPql",
        "colab_type": "code",
        "outputId": "cc83c0c1-ef82-42ba-a1da-6f4a72ea918b",
        "colab": {
          "base_uri": "https://localhost:8080/",
          "height": 267
        }
      },
      "source": [
        "y_train_preds = sgdc.predict_proba(X_train_sc)[:,1]\n",
        "y_valid_preds = sgdc.predict_proba(X_valid_sc)[:,1]\n",
        "\n",
        "print('Stochastic Gradient Descend')\n",
        "print('Training:')\n",
        "sgdc_train_auc, sgdc_train_accuracy, sgdc_train_recall, sgdc_train_precision, sgdc_train_specificity =print_report(y_train,y_train_preds, thresh)\n",
        "print('Validation:')\n",
        "sgdc_valid_auc, sgdc_valid_accuracy, sgdc_valid_recall, sgdc_valid_precision, sgdc_valid_specificity = print_report(y_valid,y_valid_preds, thresh)"
      ],
      "execution_count": 40,
      "outputs": [
        {
          "output_type": "stream",
          "text": [
            "Stochastic Gradient Descend\n",
            "Training:\n",
            "AUC:0.658\n",
            "accuracy:0.610\n",
            "recall:0.540\n",
            "precision:0.627\n",
            "specificity:0.679\n",
            " \n",
            "Validation:\n",
            "AUC:0.658\n",
            "accuracy:0.605\n",
            "recall:0.606\n",
            "precision:0.126\n",
            "specificity:0.605\n",
            " \n"
          ],
          "name": "stdout"
        }
      ]
    },
    {
      "cell_type": "markdown",
      "metadata": {
        "id": "efYrE07gARze",
        "colab_type": "text"
      },
      "source": [
        "## Random Forest"
      ]
    },
    {
      "cell_type": "code",
      "metadata": {
        "id": "iSM2USVFzdVC",
        "colab_type": "code",
        "colab": {}
      },
      "source": [
        "from sklearn.ensemble import RandomForestClassifier\n",
        "#rf = RandomForestClassifier(n_estimators = 10, max_depth=25, criterion = \"gini\", min_samples_split=10)\n",
        "rf=RandomForestClassifier(max_depth = 6, random_state = 42)\n",
        "model=rf.fit(X_train_sc, y_train)"
      ],
      "execution_count": 0,
      "outputs": []
    },
    {
      "cell_type": "code",
      "metadata": {
        "id": "PBwvhWxS0Xww",
        "colab_type": "code",
        "outputId": "0d8750e3-e228-4979-b13d-14e2712e957b",
        "colab": {
          "base_uri": "https://localhost:8080/",
          "height": 267
        }
      },
      "source": [
        "y_train_preds = rf.predict_proba(X_train_sc)[:,1]\n",
        "y_valid_preds = rf.predict_proba(X_valid_sc)[:,1]\n",
        "\n",
        "print('Random Forest')\n",
        "print('Training:')\n",
        "rf_train_auc, rf_train_accuracy, rf_train_recall, rf_train_precision, rf_train_specificity =print_report(y_train,y_train_preds, thresh)\n",
        "print('Validation:')\n",
        "rf_valid_auc, rf_valid_accuracy, rf_valid_recall, rf_valid_precision, rf_valid_specificity = print_report(y_valid,y_valid_preds, thresh)"
      ],
      "execution_count": 42,
      "outputs": [
        {
          "output_type": "stream",
          "text": [
            "Random Forest\n",
            "Training:\n",
            "AUC:0.684\n",
            "accuracy:0.626\n",
            "recall:0.558\n",
            "precision:0.646\n",
            "specificity:0.694\n",
            " \n",
            "Validation:\n",
            "AUC:0.663\n",
            "accuracy:0.655\n",
            "recall:0.549\n",
            "precision:0.133\n",
            "specificity:0.665\n",
            " \n"
          ],
          "name": "stdout"
        }
      ]
    },
    {
      "cell_type": "markdown",
      "metadata": {
        "id": "79Jo71smApkb",
        "colab_type": "text"
      },
      "source": [
        "## Gradient Boosting Classifier"
      ]
    },
    {
      "cell_type": "code",
      "metadata": {
        "id": "Js5tuW_Vfpmf",
        "colab_type": "code",
        "outputId": "2f8a7569-d854-4c11-c063-b0573dd15be3",
        "colab": {
          "base_uri": "https://localhost:8080/",
          "height": 184
        }
      },
      "source": [
        "from sklearn.ensemble import GradientBoostingClassifier\n",
        "gbc =GradientBoostingClassifier(n_estimators=100, learning_rate=1.0,\n",
        "     max_depth=3, random_state=42)\n",
        "gbc.fit(X_train_sc, y_train)"
      ],
      "execution_count": 43,
      "outputs": [
        {
          "output_type": "execute_result",
          "data": {
            "text/plain": [
              "GradientBoostingClassifier(ccp_alpha=0.0, criterion='friedman_mse', init=None,\n",
              "                           learning_rate=1.0, loss='deviance', max_depth=3,\n",
              "                           max_features=None, max_leaf_nodes=None,\n",
              "                           min_impurity_decrease=0.0, min_impurity_split=None,\n",
              "                           min_samples_leaf=1, min_samples_split=2,\n",
              "                           min_weight_fraction_leaf=0.0, n_estimators=100,\n",
              "                           n_iter_no_change=None, presort='deprecated',\n",
              "                           random_state=42, subsample=1.0, tol=0.0001,\n",
              "                           validation_fraction=0.1, verbose=0,\n",
              "                           warm_start=False)"
            ]
          },
          "metadata": {
            "tags": []
          },
          "execution_count": 43
        }
      ]
    },
    {
      "cell_type": "code",
      "metadata": {
        "id": "o5EyIZfcfz3I",
        "colab_type": "code",
        "outputId": "2f4b81c6-870f-4aea-d258-f90e8e3be625",
        "colab": {
          "base_uri": "https://localhost:8080/",
          "height": 267
        }
      },
      "source": [
        "y_train_preds = gbc.predict_proba(X_train_sc)[:,1]\n",
        "y_valid_preds = gbc.predict_proba(X_valid_sc)[:,1]\n",
        "\n",
        "print('Gradient Boosting Classifier')\n",
        "print('Training:')\n",
        "gbc_train_auc, gbc_train_accuracy, gbc_train_recall, gbc_train_precision, gbc_train_specificity= print_report(y_train,y_train_preds, thresh)\n",
        "print('Validation:')\n",
        "gbc_valid_auc, gbc_valid_accuracy, gbc_valid_recall, gbc_valid_precision, gbc_valid_specificity = print_report(y_valid,y_valid_preds, thresh)"
      ],
      "execution_count": 44,
      "outputs": [
        {
          "output_type": "stream",
          "text": [
            "Gradient Boosting Classifier\n",
            "Training:\n",
            "AUC:0.809\n",
            "accuracy:0.726\n",
            "recall:0.708\n",
            "precision:0.734\n",
            "specificity:0.743\n",
            " \n",
            "Validation:\n",
            "AUC:0.673\n",
            "accuracy:0.587\n",
            "recall:0.646\n",
            "precision:0.126\n",
            "specificity:0.582\n",
            " \n"
          ],
          "name": "stdout"
        }
      ]
    },
    {
      "cell_type": "markdown",
      "metadata": {
        "id": "ADTKNilm0gau",
        "colab_type": "text"
      },
      "source": [
        "# Feature Importance: random forest\n",
        "We can also investigate feature importance for random forest models. In this case, the feature importance shows how often a particular feature was used to split the data. In this case, we don't know if a particular feature is correlated with the positive class or negative class, but rather it is just importance for making a decision."
      ]
    },
    {
      "cell_type": "code",
      "metadata": {
        "id": "2vKL9CW30cfr",
        "colab_type": "code",
        "outputId": "ca35194d-cb73-4502-ed16-78ee9bca5322",
        "colab": {
          "base_uri": "https://localhost:8080/",
          "height": 199
        }
      },
      "source": [
        "feature_importances = pd.DataFrame(rf.feature_importances_,\n",
        "                                   index = feature,\n",
        "                                    columns=['importance']).sort_values('importance',\n",
        "                                                                        ascending=False)\n",
        "feature_importances.head()                                    "
      ],
      "execution_count": 45,
      "outputs": [
        {
          "output_type": "execute_result",
          "data": {
            "text/html": [
              "<div>\n",
              "<style scoped>\n",
              "    .dataframe tbody tr th:only-of-type {\n",
              "        vertical-align: middle;\n",
              "    }\n",
              "\n",
              "    .dataframe tbody tr th {\n",
              "        vertical-align: top;\n",
              "    }\n",
              "\n",
              "    .dataframe thead th {\n",
              "        text-align: right;\n",
              "    }\n",
              "</style>\n",
              "<table border=\"1\" class=\"dataframe\">\n",
              "  <thead>\n",
              "    <tr style=\"text-align: right;\">\n",
              "      <th></th>\n",
              "      <th>importance</th>\n",
              "    </tr>\n",
              "  </thead>\n",
              "  <tbody>\n",
              "    <tr>\n",
              "      <th>number_inpatient</th>\n",
              "      <td>0.158744</td>\n",
              "    </tr>\n",
              "    <tr>\n",
              "      <th>discharge_disposition_id_22</th>\n",
              "      <td>0.109983</td>\n",
              "    </tr>\n",
              "    <tr>\n",
              "      <th>discharge_disposition_id_3</th>\n",
              "      <td>0.089603</td>\n",
              "    </tr>\n",
              "    <tr>\n",
              "      <th>time_in_hospital</th>\n",
              "      <td>0.078903</td>\n",
              "    </tr>\n",
              "    <tr>\n",
              "      <th>discharge_disposition_id_11</th>\n",
              "      <td>0.071552</td>\n",
              "    </tr>\n",
              "  </tbody>\n",
              "</table>\n",
              "</div>"
            ],
            "text/plain": [
              "                             importance\n",
              "number_inpatient               0.158744\n",
              "discharge_disposition_id_22    0.109983\n",
              "discharge_disposition_id_3     0.089603\n",
              "time_in_hospital               0.078903\n",
              "discharge_disposition_id_11    0.071552"
            ]
          },
          "metadata": {
            "tags": []
          },
          "execution_count": 45
        }
      ]
    },
    {
      "cell_type": "code",
      "metadata": {
        "id": "g-kUEb3W0sAS",
        "colab_type": "code",
        "outputId": "36cc1ddb-7c14-4dfc-e6d9-593b1e2efd37",
        "colab": {
          "base_uri": "https://localhost:8080/",
          "height": 995
        }
      },
      "source": [
        "num = 50\n",
        "ylocs = np.arange(num)\n",
        "# get the feature importance for top num and sort in reverse order\n",
        "values_to_plot = feature_importances.iloc[:num].values.ravel()[::-1]\n",
        "feature_labels = list(feature_importances.iloc[:num].index)[::-1]\n",
        "\n",
        "plt.figure(num=None, figsize=(8, 15), dpi=80, facecolor='w', edgecolor='k');\n",
        "plt.barh(ylocs, values_to_plot, align = 'center')\n",
        "plt.ylabel('Features')\n",
        "plt.xlabel('Importance Score')\n",
        "plt.title('Feature Importance Score - Random Forest')\n",
        "plt.yticks(ylocs, feature_labels)\n",
        "plt.show()"
      ],
      "execution_count": 46,
      "outputs": [
        {
          "output_type": "display_data",
          "data": {
            "image/png": "[encoded data removed]",
            "text/plain": [
              "<Figure size 640x1200 with 1 Axes>"
            ]
          },
          "metadata": {
            "tags": []
          }
        }
      ]
    },
    {
      "cell_type": "code",
      "metadata": {
        "id": "kCKNmNVr0x-N",
        "colab_type": "code",
        "outputId": "252fb959-e616-4ea5-ddb4-ec00a58f28d9",
        "colab": {
          "base_uri": "https://localhost:8080/",
          "height": 228
        }
      },
      "source": [
        "# Create list of top most features based on importance\n",
        "feature_names = X_train_sc.columns\n",
        "feature_imports = rf.feature_importances_\n",
        "most_imp_features = pd.DataFrame([f for f in zip(feature_names,feature_imports)], columns=[\"Feature\", \"Importance\"]).nlargest(10, \"Importance\")\n",
        "most_imp_features.sort_values(by=\"Importance\", inplace=True)\n",
        "plt.figure(figsize=(10,6))\n",
        "plt.barh(range(len(most_imp_features)), most_imp_features.Importance, align='center', alpha=0.8)\n",
        "plt.yticks(range(len(most_imp_features)), most_imp_features.Feature, fontsize=14)\n",
        "plt.xlabel('Importance')\n",
        "plt.title('Most important features - Random Forest ')\n",
        "plt.show()"
      ],
      "execution_count": 47,
      "outputs": [
        {
          "output_type": "error",
          "ename": "AttributeError",
          "evalue": "ignored",
          "traceback": [
            "\u001b[0;31m---------------------------------------------------------------------------\u001b[0m",
            "\u001b[0;31mAttributeError\u001b[0m                            Traceback (most recent call last)",
            "\u001b[0;32m<ipython-input-47-5c5656f1d52b>\u001b[0m in \u001b[0;36m<module>\u001b[0;34m()\u001b[0m\n\u001b[0;32m----> 1\u001b[0;31m \u001b[0mfeature_names\u001b[0m \u001b[0;34m=\u001b[0m \u001b[0mX_train_sc\u001b[0m\u001b[0;34m.\u001b[0m\u001b[0mcolumns\u001b[0m\u001b[0;34m\u001b[0m\u001b[0;34m\u001b[0m\u001b[0m\n\u001b[0m\u001b[1;32m      2\u001b[0m \u001b[0mfeature_imports\u001b[0m \u001b[0;34m=\u001b[0m \u001b[0mrf\u001b[0m\u001b[0;34m.\u001b[0m\u001b[0mfeature_importances_\u001b[0m\u001b[0;34m\u001b[0m\u001b[0;34m\u001b[0m\u001b[0m\n\u001b[1;32m      3\u001b[0m \u001b[0mmost_imp_features\u001b[0m \u001b[0;34m=\u001b[0m \u001b[0mpd\u001b[0m\u001b[0;34m.\u001b[0m\u001b[0mDataFrame\u001b[0m\u001b[0;34m(\u001b[0m\u001b[0;34m[\u001b[0m\u001b[0mf\u001b[0m \u001b[0;32mfor\u001b[0m \u001b[0mf\u001b[0m \u001b[0;32min\u001b[0m \u001b[0mzip\u001b[0m\u001b[0;34m(\u001b[0m\u001b[0mfeature_names\u001b[0m\u001b[0;34m,\u001b[0m\u001b[0mfeature_imports\u001b[0m\u001b[0;34m)\u001b[0m\u001b[0;34m]\u001b[0m\u001b[0;34m,\u001b[0m \u001b[0mcolumns\u001b[0m\u001b[0;34m=\u001b[0m\u001b[0;34m[\u001b[0m\u001b[0;34m\"Feature\"\u001b[0m\u001b[0;34m,\u001b[0m \u001b[0;34m\"Importance\"\u001b[0m\u001b[0;34m]\u001b[0m\u001b[0;34m)\u001b[0m\u001b[0;34m.\u001b[0m\u001b[0mnlargest\u001b[0m\u001b[0;34m(\u001b[0m\u001b[0;36m10\u001b[0m\u001b[0;34m,\u001b[0m \u001b[0;34m\"Importance\"\u001b[0m\u001b[0;34m)\u001b[0m\u001b[0;34m\u001b[0m\u001b[0;34m\u001b[0m\u001b[0m\n\u001b[1;32m      4\u001b[0m \u001b[0mmost_imp_features\u001b[0m\u001b[0;34m.\u001b[0m\u001b[0msort_values\u001b[0m\u001b[0;34m(\u001b[0m\u001b[0mby\u001b[0m\u001b[0;34m=\u001b[0m\u001b[0;34m\"Importance\"\u001b[0m\u001b[0;34m,\u001b[0m \u001b[0minplace\u001b[0m\u001b[0;34m=\u001b[0m\u001b[0;32mTrue\u001b[0m\u001b[0;34m)\u001b[0m\u001b[0;34m\u001b[0m\u001b[0;34m\u001b[0m\u001b[0m\n\u001b[1;32m      5\u001b[0m \u001b[0mplt\u001b[0m\u001b[0;34m.\u001b[0m\u001b[0mfigure\u001b[0m\u001b[0;34m(\u001b[0m\u001b[0mfigsize\u001b[0m\u001b[0;34m=\u001b[0m\u001b[0;34m(\u001b[0m\u001b[0;36m10\u001b[0m\u001b[0;34m,\u001b[0m\u001b[0;36m6\u001b[0m\u001b[0;34m)\u001b[0m\u001b[0;34m)\u001b[0m\u001b[0;34m\u001b[0m\u001b[0;34m\u001b[0m\u001b[0m\n",
            "\u001b[0;31mAttributeError\u001b[0m: 'numpy.ndarray' object has no attribute 'columns'"
          ]
        }
      ]
    },
    {
      "cell_type": "markdown",
      "metadata": {
        "id": "ZZOlLFt51Yo9",
        "colab_type": "text"
      },
      "source": [
        "Cannot plot object type in array"
      ]
    },
    {
      "cell_type": "markdown",
      "metadata": {
        "id": "mTzQJXyg1g8P",
        "colab_type": "text"
      },
      "source": [
        "\n",
        "\n",
        "# Model Comparision"
      ]
    },
    {
      "cell_type": "code",
      "metadata": {
        "id": "XzNrIEhn1VJe",
        "colab_type": "code",
        "colab": {}
      },
      "source": [
        "df_results = pd.DataFrame({'classifier':['linearsvc','linearsvc','SGD','SGD','RF','RF','GBC','GBC'],\n",
        "                           'data_set':['train','valid']*4,\n",
        "                          'auc':[sv_train_auc,sv_valid_auc,sgdc_train_auc,sgdc_valid_auc,rf_train_auc,rf_valid_auc,gbc_train_auc,gbc_valid_auc],\n",
        "                          'accuracy':[sv_train_accuracy,sv_valid_accuracy,sgdc_train_accuracy,sgdc_valid_accuracy,rf_train_accuracy,rf_valid_accuracy,gbc_train_accuracy,gbc_valid_accuracy],\n",
        "                          'recall':[sv_train_recall,sv_valid_recall,sgdc_train_recall,sgdc_valid_recall,rf_train_recall,rf_valid_recall,gbc_train_recall,gbc_valid_recall],\n",
        "                          'precision':[sv_train_precision,sv_valid_precision,sgdc_train_precision,sgdc_valid_precision,rf_train_precision,rf_valid_precision,gbc_train_precision,gbc_valid_precision],\n",
        "                          'specificity':[sv_train_specificity,sv_valid_specificity,sgdc_train_specificity,sgdc_valid_specificity,rf_train_specificity,rf_valid_specificity,gbc_train_specificity,gbc_valid_specificity],\n",
        "                          })"
      ],
      "execution_count": 0,
      "outputs": []
    },
    {
      "cell_type": "code",
      "metadata": {
        "id": "tImNXpLM1nt0",
        "colab_type": "code",
        "outputId": "02c0484b-5e06-4c8b-ea6f-5a7b75dcebc9",
        "colab": {
          "base_uri": "https://localhost:8080/",
          "height": 292
        }
      },
      "source": [
        "import seaborn as sns\n",
        "import matplotlib.pyplot as plt\n",
        "sns.set(style=\"darkgrid\")\n",
        "ax = sns.barplot(x=\"classifier\", y=\"auc\", hue=\"data_set\", data=df_results)\n",
        "ax.set_xlabel('Classifier',fontsize = 15)\n",
        "ax.set_ylabel('AUC', fontsize = 15)\n",
        "ax.tick_params(labelsize=15)\n",
        "# Put the legend out of the figure\n",
        "plt.legend(bbox_to_anchor=(1.05, 1), loc=2, borderaxespad=0., fontsize = 15)\n",
        "plt.show()"
      ],
      "execution_count": 49,
      "outputs": [
        {
          "output_type": "display_data",
          "data": {
            "image/png": "[encoded data removed]",
            "text/plain": [
              "<Figure size 432x288 with 1 Axes>"
            ]
          },
          "metadata": {
            "tags": []
          }
        }
      ]
    },
    {
      "cell_type": "code",
      "metadata": {
        "id": "zrM29abM1tYS",
        "colab_type": "code",
        "outputId": "75731748-0fcc-47f2-bda5-3234abbe4874",
        "colab": {
          "base_uri": "https://localhost:8080/",
          "height": 292
        }
      },
      "source": [
        "import seaborn as sns\n",
        "import matplotlib.pyplot as plt\n",
        "sns.set(style=\"darkgrid\")\n",
        "ax = sns.barplot(x=\"classifier\", y=\"accuracy\", hue=\"data_set\", data=df_results)\n",
        "ax.set_xlabel('Classifier',fontsize = 15)\n",
        "ax.set_ylabel('accuracy', fontsize = 15)\n",
        "ax.tick_params(labelsize=15)\n",
        "# Put the legend out of the figure\n",
        "plt.legend(bbox_to_anchor=(1.05, 1), loc=2, borderaxespad=0., fontsize = 15)\n",
        "plt.show()"
      ],
      "execution_count": 50,
      "outputs": [
        {
          "output_type": "display_data",
          "data": {
            "image/png": "[encoded data removed]",
            "text/plain": [
              "<Figure size 432x288 with 1 Axes>"
            ]
          },
          "metadata": {
            "tags": []
          }
        }
      ]
    },
    {
      "cell_type": "code",
      "metadata": {
        "id": "lpDdeDkl1zUy",
        "colab_type": "code",
        "outputId": "05f3c358-c3bd-4e10-dafb-7543b673b064",
        "colab": {
          "base_uri": "https://localhost:8080/",
          "height": 292
        }
      },
      "source": [
        "import seaborn as sns\n",
        "import matplotlib.pyplot as plt\n",
        "sns.set(style=\"darkgrid\")\n",
        "ax = sns.barplot(x=\"classifier\", y=\"recall\", hue=\"data_set\", data=df_results)\n",
        "ax.set_xlabel('Classifier',fontsize = 15)\n",
        "ax.set_ylabel('recall', fontsize = 15)\n",
        "ax.tick_params(labelsize=15)\n",
        "# Put the legend out of the figure\n",
        "plt.legend(bbox_to_anchor=(1.05, 1), loc=2, borderaxespad=0., fontsize = 15)\n",
        "plt.show()"
      ],
      "execution_count": 51,
      "outputs": [
        {
          "output_type": "display_data",
          "data": {
            "image/png": "[encoded data removed]",
            "text/plain": [
              "<Figure size 432x288 with 1 Axes>"
            ]
          },
          "metadata": {
            "tags": []
          }
        }
      ]
    },
    {
      "cell_type": "code",
      "metadata": {
        "id": "udQV75Co2qu7",
        "colab_type": "code",
        "outputId": "e992dcbf-2c91-4402-9bc8-3baf241ad666",
        "colab": {
          "base_uri": "https://localhost:8080/",
          "height": 292
        }
      },
      "source": [
        "import seaborn as sns\n",
        "import matplotlib.pyplot as plt\n",
        "sns.set(style=\"darkgrid\")\n",
        "ax = sns.barplot(x=\"classifier\", y=\"precision\", hue=\"data_set\", data=df_results)\n",
        "ax.set_xlabel('Classifier',fontsize = 15)\n",
        "ax.set_ylabel('precision', fontsize = 15)\n",
        "ax.tick_params(labelsize=15)\n",
        "# Put the legend out of the figure\n",
        "plt.legend(bbox_to_anchor=(1.05, 1), loc=2, borderaxespad=0., fontsize = 15)\n",
        "plt.show()"
      ],
      "execution_count": 52,
      "outputs": [
        {
          "output_type": "display_data",
          "data": {
            "image/png": "[encoded data removed]",
            "text/plain": [
              "<Figure size 432x288 with 1 Axes>"
            ]
          },
          "metadata": {
            "tags": []
          }
        }
      ]
    },
    {
      "cell_type": "code",
      "metadata": {
        "id": "JPC99CMRhS94",
        "colab_type": "code",
        "outputId": "9253b698-0abd-40e4-dbe4-c6bb6ea6a8e3",
        "colab": {
          "base_uri": "https://localhost:8080/",
          "height": 297
        }
      },
      "source": [
        "import seaborn as sns\n",
        "import matplotlib.pyplot as plt\n",
        "sns.set(style=\"darkgrid\")\n",
        "ax = sns.barplot(x=\"classifier\", y=\"specificity\", hue=\"data_set\", data=df_results)\n",
        "ax.set_xlabel('Classifier',fontsize = 15)\n",
        "ax.set_ylabel('Specificity', fontsize = 15)\n",
        "ax.tick_params(labelsize=15)\n",
        "# Put the legend out of the figure\n",
        "plt.legend(bbox_to_anchor=(1.05, 1), loc=2, borderaxespad=0., fontsize = 15)\n",
        "plt.show()"
      ],
      "execution_count": 53,
      "outputs": [
        {
          "output_type": "display_data",
          "data": {
            "image/png": "[encoded data removed]",
            "text/plain": [
              "<Figure size 432x288 with 1 Axes>"
            ]
          },
          "metadata": {
            "tags": []
          }
        }
      ]
    },
    {
      "cell_type": "markdown",
      "metadata": {
        "id": "xQlhewMLpl-F",
        "colab_type": "text"
      },
      "source": [
        "# Learning Curve:"
      ]
    },
    {
      "cell_type": "code",
      "metadata": {
        "id": "05HrwVGFpkAW",
        "colab_type": "code",
        "colab": {}
      },
      "source": [
        "import numpy as np\n",
        "from sklearn.model_selection import learning_curve\n",
        "from sklearn.model_selection import ShuffleSplit\n",
        "\n",
        "def plot_learning_curve(estimator, title, X, y, ylim=None, cv=None,\n",
        "                        n_jobs=1, train_sizes=np.linspace(.1, 1.0, 5)):\n",
        "    plt.figure()\n",
        "    plt.title(title)\n",
        "    if ylim is not None:\n",
        "        plt.ylim(*ylim)\n",
        "    plt.xlabel(\"Training examples\")\n",
        "    plt.ylabel(\"AUC\")\n",
        "    train_sizes, train_scores, test_scores = learning_curve(\n",
        "        estimator, X, y, cv=cv, n_jobs=n_jobs, train_sizes=train_sizes, scoring = 'roc_auc')\n",
        "    train_scores_mean = np.mean(train_scores, axis=1)\n",
        "    train_scores_std = np.std(train_scores, axis=1)\n",
        "    test_scores_mean = np.mean(test_scores, axis=1)\n",
        "    test_scores_std = np.std(test_scores, axis=1)\n",
        "    plt.grid()\n",
        "\n",
        "    plt.fill_between(train_sizes, train_scores_mean - train_scores_std,\n",
        "                     train_scores_mean + train_scores_std, alpha=0.1,\n",
        "                     color=\"r\")\n",
        "    plt.fill_between(train_sizes, test_scores_mean - test_scores_std,\n",
        "                     test_scores_mean + test_scores_std, alpha=0.1, color=\"b\")\n",
        "    plt.plot(train_sizes, train_scores_mean, 'o-', color=\"r\",\n",
        "             label=\"Training score\")\n",
        "    plt.plot(train_sizes, test_scores_mean, 'o-', color=\"b\",\n",
        "             label=\"Cross-validation score\")\n",
        "\n",
        "    plt.legend(loc=\"best\")\n",
        "    return plt"
      ],
      "execution_count": 0,
      "outputs": []
    },
    {
      "cell_type": "code",
      "metadata": {
        "id": "Czz3FyDKQ39K",
        "colab_type": "code",
        "outputId": "b0cb9fde-328b-4b6f-ebf2-6f28fb8b781b",
        "colab": {
          "base_uri": "https://localhost:8080/",
          "height": 301
        }
      },
      "source": [
        "\n",
        "title = \"Learning Curves (Random Forest)\"\n",
        "# Cross validation with 5 iterations to get smoother mean test and train\n",
        "# score curves, each time with 20% data randomly selected as a validation set.\n",
        "cv = ShuffleSplit(n_splits=5, test_size=0.2, random_state=42)\n",
        "estimator = RandomForestClassifier(max_depth = 6, random_state = 42)\n",
        "plot_learning_curve(estimator, title, X_train_sc, y_train, ylim=(0.2, 1.01), cv=cv, n_jobs=4)\n",
        "\n",
        "plt.show()"
      ],
      "execution_count": 55,
      "outputs": [
        {
          "output_type": "display_data",
          "data": {
            "image/png": "[encoded data removed]",
            "text/plain": [
              "<Figure size 432x288 with 1 Axes>"
            ]
          },
          "metadata": {
            "tags": []
          }
        }
      ]
    },
    {
      "cell_type": "markdown",
      "metadata": {
        "id": "ARRWmyGGSWuM",
        "colab_type": "text"
      },
      "source": [
        "\n",
        "# Model Selection: Hyperparameter tuning\n",
        "\n",
        "\n",
        "The next thing that we should investigate is hyperparameter tuning. Hyperparameter tuning are essentially the design decisions that you made when you set up the machine learning model. For example, what is the maximum depth for your random forest? Each of these hyperparameters can be optimized to improve the model.\n",
        "\n",
        "In this section, we will only optimize the hyper parameters for stochastic gradient descent, random forest and gradient boosting classifier.\n",
        "\n",
        "\n",
        "we can get a list of the parameters inside a model with get_params. Here are the parameters in the random forest model. Wow there are so many of them"
      ]
    },
    {
      "cell_type": "code",
      "metadata": {
        "id": "HxM0ygsdSY-D",
        "colab_type": "code",
        "outputId": "1c3b2864-a433-4796-9a75-9dc48f5abf30",
        "colab": {
          "base_uri": "https://localhost:8080/",
          "height": 334
        }
      },
      "source": [
        "rf.get_params()"
      ],
      "execution_count": 56,
      "outputs": [
        {
          "output_type": "execute_result",
          "data": {
            "text/plain": [
              "{'bootstrap': True,\n",
              " 'ccp_alpha': 0.0,\n",
              " 'class_weight': None,\n",
              " 'criterion': 'gini',\n",
              " 'max_depth': 6,\n",
              " 'max_features': 'auto',\n",
              " 'max_leaf_nodes': None,\n",
              " 'max_samples': None,\n",
              " 'min_impurity_decrease': 0.0,\n",
              " 'min_impurity_split': None,\n",
              " 'min_samples_leaf': 1,\n",
              " 'min_samples_split': 2,\n",
              " 'min_weight_fraction_leaf': 0.0,\n",
              " 'n_estimators': 100,\n",
              " 'n_jobs': None,\n",
              " 'oob_score': False,\n",
              " 'random_state': 42,\n",
              " 'verbose': 0,\n",
              " 'warm_start': False}"
            ]
          },
          "metadata": {
            "tags": []
          },
          "execution_count": 56
        }
      ]
    },
    {
      "cell_type": "code",
      "metadata": {
        "id": "5rB97ziRUSJO",
        "colab_type": "code",
        "outputId": "36ed8dec-38f0-40a9-8e23-a11ca7425895",
        "colab": {
          "base_uri": "https://localhost:8080/",
          "height": 33
        }
      },
      "source": [
        "#Let's create a grid over a few of these (see the scikit-learn website for the descriptions).\n",
        "from sklearn.model_selection import RandomizedSearchCV\n",
        "\n",
        "# number of trees\n",
        "n_estimators = range(200,1000,200)\n",
        "# maximum number of features to use at each split\n",
        "max_features = ['auto','sqrt']\n",
        "# maximum depth of the tree\n",
        "max_depth = range(1,10,1)\n",
        "# minimum number of samples to split a node\n",
        "min_samples_split = range(2,10,2)\n",
        "# criterion for evaluating a split\n",
        "criterion = ['gini','entropy']\n",
        "\n",
        "# random grid\n",
        "\n",
        "random_grid = {'n_estimators':n_estimators,\n",
        "              'max_features':max_features,\n",
        "              'max_depth':max_depth,\n",
        "              'min_samples_split':min_samples_split,\n",
        "              'criterion':criterion}\n",
        "\n",
        "print(random_grid)"
      ],
      "execution_count": 57,
      "outputs": [
        {
          "output_type": "stream",
          "text": [
            "{'n_estimators': range(200, 1000, 200), 'max_features': ['auto', 'sqrt'], 'max_depth': range(1, 10), 'min_samples_split': range(2, 10, 2), 'criterion': ['gini', 'entropy']}\n"
          ],
          "name": "stdout"
        }
      ]
    },
    {
      "cell_type": "code",
      "metadata": {
        "id": "9UDdFvCvV0v4",
        "colab_type": "code",
        "colab": {}
      },
      "source": [
        "from sklearn.metrics import make_scorer, roc_auc_score\n",
        "auc_scoring = make_scorer(roc_auc_score)"
      ],
      "execution_count": 0,
      "outputs": []
    },
    {
      "cell_type": "code",
      "metadata": {
        "id": "BCQMJEjsV5HJ",
        "colab_type": "code",
        "colab": {}
      },
      "source": [
        "# create the randomized search cross-validation\n",
        "rf_random = RandomizedSearchCV(estimator = rf, param_distributions = random_grid, \n",
        "                               n_iter = 20, cv = 2, scoring=auc_scoring,\n",
        "                               verbose = 1, random_state = 42)"
      ],
      "execution_count": 0,
      "outputs": []
    },
    {
      "cell_type": "code",
      "metadata": {
        "id": "oGs8b8n_V-HK",
        "colab_type": "code",
        "outputId": "8aa44569-63a1-46ea-e041-02b3429a12bf",
        "colab": {
          "base_uri": "https://localhost:8080/",
          "height": 83
        }
      },
      "source": [
        "import time\n",
        "\n",
        "# fit the random search model (this will take a few minutes)\n",
        "t1 = time.time()\n",
        "rf_random.fit(X_train_sc, y_train)\n",
        "t2 = time.time()\n",
        "print(t2-t1)"
      ],
      "execution_count": 60,
      "outputs": [
        {
          "output_type": "stream",
          "text": [
            "Fitting 2 folds for each of 20 candidates, totalling 40 fits\n"
          ],
          "name": "stdout"
        },
        {
          "output_type": "stream",
          "text": [
            "[Parallel(n_jobs=1)]: Using backend SequentialBackend with 1 concurrent workers.\n",
            "[Parallel(n_jobs=1)]: Done  40 out of  40 | elapsed:  1.4min finished\n"
          ],
          "name": "stderr"
        },
        {
          "output_type": "stream",
          "text": [
            "89.96938586235046\n"
          ],
          "name": "stdout"
        }
      ]
    },
    {
      "cell_type": "code",
      "metadata": {
        "id": "hYLwxqfmWKrI",
        "colab_type": "code",
        "outputId": "b01374e2-54a6-4575-c394-0f0c957defc1",
        "colab": {
          "base_uri": "https://localhost:8080/",
          "height": 100
        }
      },
      "source": [
        "#see the best parameters\n",
        "rf_random.best_params_"
      ],
      "execution_count": 61,
      "outputs": [
        {
          "output_type": "execute_result",
          "data": {
            "text/plain": [
              "{'criterion': 'entropy',\n",
              " 'max_depth': 8,\n",
              " 'max_features': 'sqrt',\n",
              " 'min_samples_split': 4,\n",
              " 'n_estimators': 600}"
            ]
          },
          "metadata": {
            "tags": []
          },
          "execution_count": 61
        }
      ]
    },
    {
      "cell_type": "code",
      "metadata": {
        "id": "wkoIBBz8WSai",
        "colab_type": "code",
        "outputId": "f1c4b2e6-80c2-4166-e21c-ea918fcd5228",
        "colab": {
          "base_uri": "https://localhost:8080/",
          "height": 117
        }
      },
      "source": [
        "y_train_preds = rf.predict_proba(X_train_sc)[:,1]\n",
        "y_valid_preds = rf.predict_proba(X_valid_sc)[:,1]\n",
        "\n",
        "print('Baseline Random Forest')\n",
        "rf_train_auc_base = roc_auc_score(y_train, y_train_preds)\n",
        "rf_valid_auc_base = roc_auc_score(y_valid, y_valid_preds)\n",
        "\n",
        "print('Training AUC:%.3f'%(rf_train_auc_base))\n",
        "print('Validation AUC:%.3f'%(rf_valid_auc_base))\n",
        "\n",
        "print('Optimized Random Forest')\n",
        "y_train_preds_random = rf_random.best_estimator_.predict_proba(X_train_sc)[:,1]\n",
        "y_valid_preds_random = rf_random.best_estimator_.predict_proba(X_valid_sc)[:,1]\n",
        "\n",
        "rf_train_auc = roc_auc_score(y_train, y_train_preds_random)\n",
        "rf_valid_auc = roc_auc_score(y_valid, y_valid_preds_random)\n",
        "\n",
        "print('Training AUC:%.3f'%(rf_train_auc))\n",
        "print('Validation AUC:%.3f'%(rf_valid_auc))"
      ],
      "execution_count": 62,
      "outputs": [
        {
          "output_type": "stream",
          "text": [
            "Baseline Random Forest\n",
            "Training AUC:0.684\n",
            "Validation AUC:0.663\n",
            "Optimized Random Forest\n",
            "Training AUC:0.716\n",
            "Validation AUC:0.681\n"
          ],
          "name": "stdout"
        }
      ]
    },
    {
      "cell_type": "code",
      "metadata": {
        "id": "1r8Ng6FfZ9T-",
        "colab_type": "code",
        "outputId": "e8c2cafd-c6e4-4e43-d024-20e29bd695d7",
        "colab": {
          "base_uri": "https://localhost:8080/",
          "height": 87
        }
      },
      "source": [
        "#Optimize stochastic gradient descent\n",
        "\n",
        "penalty = ['none','l2','l1']\n",
        "max_iter = range(100,500,100)\n",
        "alpha = [0.001,0.003,0.01,0.03,0.1,0.3]\n",
        "random_grid_sgdc = {'penalty':penalty,\n",
        "              'max_iter':max_iter,\n",
        "              'alpha':alpha}\n",
        "# create the randomized search cross-validation\n",
        "sgdc_random = RandomizedSearchCV(estimator = sgdc, param_distributions = random_grid_sgdc, \n",
        "                                 n_iter = 20, cv = 2, scoring=auc_scoring,verbose = 0, \n",
        "                                 random_state = 42)\n",
        "\n",
        "t1 = time.time()\n",
        "sgdc_random.fit(X_train_sc, y_train)\n",
        "t2 = time.time()\n",
        "print(t2-t1)"
      ],
      "execution_count": 63,
      "outputs": [
        {
          "output_type": "stream",
          "text": [
            "/usr/local/lib/python3.6/dist-packages/sklearn/linear_model/_stochastic_gradient.py:557: ConvergenceWarning: Maximum number of iteration reached before convergence. Consider increasing max_iter to improve the fit.\n",
            "  ConvergenceWarning)\n"
          ],
          "name": "stderr"
        },
        {
          "output_type": "stream",
          "text": [
            "6.5261712074279785\n"
          ],
          "name": "stdout"
        }
      ]
    },
    {
      "cell_type": "code",
      "metadata": {
        "id": "OBn2qLinaUhw",
        "colab_type": "code",
        "outputId": "ca35f14a-3f3f-44c6-84ff-93753c447a27",
        "colab": {
          "base_uri": "https://localhost:8080/",
          "height": 33
        }
      },
      "source": [
        "sgdc_random.best_params_"
      ],
      "execution_count": 0,
      "outputs": [
        {
          "output_type": "execute_result",
          "data": {
            "text/plain": [
              "{'alpha': 0.1, 'max_iter': 300, 'penalty': 'none'}"
            ]
          },
          "metadata": {
            "tags": []
          },
          "execution_count": 201
        }
      ]
    },
    {
      "cell_type": "code",
      "metadata": {
        "id": "pxdFGoP8aV-N",
        "colab_type": "code",
        "outputId": "9fcc0df2-d4a2-4864-9eab-aa8bc0a4edfe",
        "colab": {
          "base_uri": "https://localhost:8080/",
          "height": 117
        }
      },
      "source": [
        "y_train_preds = sgdc.predict_proba(X_train_sc)[:,1]\n",
        "y_valid_preds = sgdc.predict_proba(X_valid_sc)[:,1]\n",
        "\n",
        "print('Baseline sgdc')\n",
        "sgdc_train_auc_base = roc_auc_score(y_train, y_train_preds)\n",
        "sgdc_valid_auc_base = roc_auc_score(y_valid, y_valid_preds)\n",
        "\n",
        "print('Training AUC:%.3f'%(sgdc_train_auc_base))\n",
        "print('Validation AUC:%.3f'%(sgdc_valid_auc_base))\n",
        "print('Optimized sgdc')\n",
        "y_train_preds_random = sgdc_random.best_estimator_.predict_proba(X_train_sc)[:,1]\n",
        "y_valid_preds_random = sgdc_random.best_estimator_.predict_proba(X_valid_sc)[:,1]\n",
        "sgdc_train_auc = roc_auc_score(y_train, y_train_preds_random)\n",
        "sgdc_valid_auc = roc_auc_score(y_valid, y_valid_preds_random)\n",
        "\n",
        "print('Training AUC:%.3f'%(sgdc_train_auc))\n",
        "print('Validation AUC:%.3f'%(sgdc_valid_auc))"
      ],
      "execution_count": 64,
      "outputs": [
        {
          "output_type": "stream",
          "text": [
            "Baseline sgdc\n",
            "Training AUC:0.658\n",
            "Validation AUC:0.658\n",
            "Optimized sgdc\n",
            "Training AUC:0.656\n",
            "Validation AUC:0.653\n"
          ],
          "name": "stdout"
        }
      ]
    },
    {
      "cell_type": "code",
      "metadata": {
        "id": "dSp0Wh6fai4j",
        "colab_type": "code",
        "outputId": "7572e4ad-f153-4461-d27c-b3bf0e1b2507",
        "colab": {
          "base_uri": "https://localhost:8080/",
          "height": 33
        }
      },
      "source": [
        "#Optimize gradient boosting classifier\n",
        "# number of trees\n",
        "n_estimators = range(100,500,100)\n",
        "\n",
        "# maximum depth of the tree\n",
        "max_depth = range(1,5,1)\n",
        "\n",
        "# learning rate\n",
        "learning_rate = [0.001,0.01,0.1]\n",
        "\n",
        "# random grid\n",
        "\n",
        "random_grid_gbc = {'n_estimators':n_estimators,\n",
        "              'max_depth':max_depth,\n",
        "              'learning_rate':learning_rate}\n",
        "\n",
        "# create the randomized search cross-validation\n",
        "gbc_random = RandomizedSearchCV(estimator = gbc, param_distributions = random_grid_gbc,\n",
        "                                n_iter = 20, cv = 2, scoring=auc_scoring,\n",
        "                                verbose = 0, random_state = 42)\n",
        "\n",
        "t1 = time.time()\n",
        "gbc_random.fit(X_train_sc, y_train)\n",
        "t2 = time.time()\n",
        "print(t2-t1)"
      ],
      "execution_count": 65,
      "outputs": [
        {
          "output_type": "stream",
          "text": [
            "133.01800870895386\n"
          ],
          "name": "stdout"
        }
      ]
    },
    {
      "cell_type": "code",
      "metadata": {
        "id": "Pq-ZS1saqXJ4",
        "colab_type": "code",
        "outputId": "a2335209-037f-417e-e9ac-7b6dd195af0a",
        "colab": {
          "base_uri": "https://localhost:8080/",
          "height": 33
        }
      },
      "source": [
        "gbc_random.best_params_"
      ],
      "execution_count": 66,
      "outputs": [
        {
          "output_type": "execute_result",
          "data": {
            "text/plain": [
              "{'learning_rate': 0.1, 'max_depth': 3, 'n_estimators': 100}"
            ]
          },
          "metadata": {
            "tags": []
          },
          "execution_count": 66
        }
      ]
    },
    {
      "cell_type": "code",
      "metadata": {
        "id": "v6e5nBrAqYiY",
        "colab_type": "code",
        "outputId": "c470c5fb-041a-488b-a34e-64ae21c19358",
        "colab": {
          "base_uri": "https://localhost:8080/",
          "height": 117
        }
      },
      "source": [
        "\n",
        "y_train_preds = gbc.predict_proba(X_train_sc)[:,1]\n",
        "y_valid_preds = gbc.predict_proba(X_valid_sc)[:,1]\n",
        "\n",
        "print('Baseline gbc')\n",
        "gbc_train_auc_base = roc_auc_score(y_train, y_train_preds)\n",
        "gbc_valid_auc_base = roc_auc_score(y_valid, y_valid_preds)\n",
        "\n",
        "print('Training AUC:%.3f'%(gbc_train_auc_base))\n",
        "print('Validation AUC:%.3f'%(gbc_valid_auc_base))\n",
        "\n",
        "print('Optimized gbc')\n",
        "y_train_preds_random = gbc_random.best_estimator_.predict_proba(X_train_sc)[:,1]\n",
        "y_valid_preds_random = gbc_random.best_estimator_.predict_proba(X_valid_sc)[:,1]\n",
        "gbc_train_auc = roc_auc_score(y_train, y_train_preds_random)\n",
        "gbc_valid_auc = roc_auc_score(y_valid, y_valid_preds_random)\n",
        "\n",
        "print('Training AUC:%.3f'%(gbc_train_auc))\n",
        "print('Validation AUC:%.3f'%(gbc_valid_auc))"
      ],
      "execution_count": 67,
      "outputs": [
        {
          "output_type": "stream",
          "text": [
            "Baseline gbc\n",
            "Training AUC:0.809\n",
            "Validation AUC:0.673\n",
            "Optimized gbc\n",
            "Training AUC:0.692\n",
            "Validation AUC:0.677\n"
          ],
          "name": "stdout"
        }
      ]
    },
    {
      "cell_type": "markdown",
      "metadata": {
        "id": "jjEjPEr-qm6D",
        "colab_type": "text"
      },
      "source": [
        "# Hyperparameter Tunning Results"
      ]
    },
    {
      "cell_type": "code",
      "metadata": {
        "id": "fZ0skULBqsAh",
        "colab_type": "code",
        "colab": {}
      },
      "source": [
        "df_results = pd.DataFrame({'classifier':['SGD','SGD','RF','RF','GB','GB'],\n",
        "                           'data_set':['base','optimized']*3,\n",
        "                          'auc':[sgdc_valid_auc_base,sgdc_valid_auc,\n",
        "                                 rf_valid_auc_base,rf_valid_auc,\n",
        "                                 gbc_valid_auc_base,gbc_valid_auc,],\n",
        "                          })"
      ],
      "execution_count": 0,
      "outputs": []
    },
    {
      "cell_type": "code",
      "metadata": {
        "id": "Pp875bOrqv3V",
        "colab_type": "code",
        "outputId": "a681e249-1439-4651-90ee-673085c8e9aa",
        "colab": {
          "base_uri": "https://localhost:8080/",
          "height": 230
        }
      },
      "source": [
        "\n",
        "df_results"
      ],
      "execution_count": 69,
      "outputs": [
        {
          "output_type": "execute_result",
          "data": {
            "text/html": [
              "<div>\n",
              "<style scoped>\n",
              "    .dataframe tbody tr th:only-of-type {\n",
              "        vertical-align: middle;\n",
              "    }\n",
              "\n",
              "    .dataframe tbody tr th {\n",
              "        vertical-align: top;\n",
              "    }\n",
              "\n",
              "    .dataframe thead th {\n",
              "        text-align: right;\n",
              "    }\n",
              "</style>\n",
              "<table border=\"1\" class=\"dataframe\">\n",
              "  <thead>\n",
              "    <tr style=\"text-align: right;\">\n",
              "      <th></th>\n",
              "      <th>classifier</th>\n",
              "      <th>data_set</th>\n",
              "      <th>auc</th>\n",
              "    </tr>\n",
              "  </thead>\n",
              "  <tbody>\n",
              "    <tr>\n",
              "      <th>0</th>\n",
              "      <td>SGD</td>\n",
              "      <td>base</td>\n",
              "      <td>0.658373</td>\n",
              "    </tr>\n",
              "    <tr>\n",
              "      <th>1</th>\n",
              "      <td>SGD</td>\n",
              "      <td>optimized</td>\n",
              "      <td>0.652621</td>\n",
              "    </tr>\n",
              "    <tr>\n",
              "      <th>2</th>\n",
              "      <td>RF</td>\n",
              "      <td>base</td>\n",
              "      <td>0.662602</td>\n",
              "    </tr>\n",
              "    <tr>\n",
              "      <th>3</th>\n",
              "      <td>RF</td>\n",
              "      <td>optimized</td>\n",
              "      <td>0.680851</td>\n",
              "    </tr>\n",
              "    <tr>\n",
              "      <th>4</th>\n",
              "      <td>GB</td>\n",
              "      <td>base</td>\n",
              "      <td>0.672622</td>\n",
              "    </tr>\n",
              "    <tr>\n",
              "      <th>5</th>\n",
              "      <td>GB</td>\n",
              "      <td>optimized</td>\n",
              "      <td>0.676993</td>\n",
              "    </tr>\n",
              "  </tbody>\n",
              "</table>\n",
              "</div>"
            ],
            "text/plain": [
              "  classifier   data_set       auc\n",
              "0        SGD       base  0.658373\n",
              "1        SGD  optimized  0.652621\n",
              "2         RF       base  0.662602\n",
              "3         RF  optimized  0.680851\n",
              "4         GB       base  0.672622\n",
              "5         GB  optimized  0.676993"
            ]
          },
          "metadata": {
            "tags": []
          },
          "execution_count": 69
        }
      ]
    },
    {
      "cell_type": "code",
      "metadata": {
        "id": "ZJwnmIdpq2ro",
        "colab_type": "code",
        "outputId": "23f407a3-6fb2-4d28-e0ba-49e31dd2802e",
        "colab": {
          "base_uri": "https://localhost:8080/",
          "height": 292
        }
      },
      "source": [
        "\n",
        "ax = sns.barplot(x=\"classifier\", y=\"auc\", hue=\"data_set\", data=df_results)\n",
        "ax.set_xlabel('Classifier',fontsize = 15)\n",
        "ax.set_ylabel('AUC', fontsize = 15)\n",
        "ax.tick_params(labelsize=15)\n",
        "# Put the legend out of the figure\n",
        "plt.legend(bbox_to_anchor=(1.05, 1), loc=2, borderaxespad=0., fontsize = 15)\n",
        "\n",
        "plt.show()"
      ],
      "execution_count": 70,
      "outputs": [
        {
          "output_type": "display_data",
          "data": {
            "image/png": "[encoded data removed]",
            "text/plain": [
              "<Figure size 432x288 with 1 Axes>"
            ]
          },
          "metadata": {
            "tags": []
          }
        }
      ]
    },
    {
      "cell_type": "markdown",
      "metadata": {
        "id": "dyP7IrDNrT16",
        "colab_type": "text"
      },
      "source": [
        "# Model Evaluation\n",
        "\n",
        "Now that we have selected our best model. Let's evaluate the performance of the test set."
      ]
    },
    {
      "cell_type": "code",
      "metadata": {
        "id": "Ukc2FZlCrcdi",
        "colab_type": "code",
        "colab": {}
      },
      "source": [
        "X_test = df_test[feature].values\n",
        "y_test = df_test['OUTPUT_LABEL'].values\n",
        "X_test_sc = scaler.fit_transform(X_test)"
      ],
      "execution_count": 0,
      "outputs": []
    },
    {
      "cell_type": "markdown",
      "metadata": {
        "id": "xIayL7CpRiD1",
        "colab_type": "text"
      },
      "source": [
        "\n",
        "Here we will chose the gradient boosting classifier since it has the best AUC on the validation set. You won't want to train your best classifier every time you want to run new predictions. Therefore, we need to save the classifier"
      ]
    },
    {
      "cell_type": "code",
      "metadata": {
        "id": "SisDxlkBCSKo",
        "colab_type": "code",
        "colab": {}
      },
      "source": [
        "best_model=gbc_random.best_estimator_"
      ],
      "execution_count": 0,
      "outputs": []
    },
    {
      "cell_type": "code",
      "metadata": {
        "id": "B7QY6f4M3mJO",
        "colab_type": "code",
        "colab": {}
      },
      "source": [
        "y_train_preds = best_model.predict_proba(X_train_sc)[:,1]\n",
        "y_valid_preds = best_model.predict_proba(X_valid_sc)[:,1]\n",
        "y_test_preds = best_model.predict_proba(X_test_sc)[:,1]"
      ],
      "execution_count": 0,
      "outputs": []
    },
    {
      "cell_type": "code",
      "metadata": {
        "id": "0jNAEhO7-HUV",
        "colab_type": "code",
        "outputId": "bb6f37cf-1706-4f57-f92a-7e273de2bdd8",
        "colab": {
          "base_uri": "https://localhost:8080/",
          "height": 367
        }
      },
      "source": [
        "\n",
        "thresh = 0.5\n",
        "\n",
        "print('Training:')\n",
        "train_auc, train_accuracy, train_recall, train_precision, train_specificity = print_report(y_train,y_train_preds, thresh)\n",
        "print('Validation:')\n",
        "valid_auc, valid_accuracy, valid_recall, valid_precision, valid_specificity  = print_report(y_valid,y_valid_preds, thresh)\n",
        "print('Test:')\n",
        "test_auc, test_accuracy, test_recall, test_precision, test_specificity  = print_report(y_test,y_test_preds, thresh)"
      ],
      "execution_count": 0,
      "outputs": [
        {
          "output_type": "stream",
          "text": [
            "Training:\n",
            "AUC:0.692\n",
            "accuracy:0.631\n",
            "recall:0.558\n",
            "precision:0.653\n",
            "specificity:0.703\n",
            " \n",
            "Validation:\n",
            "AUC:0.677\n",
            "accuracy:0.669\n",
            "recall:0.557\n",
            "precision:0.140\n",
            "specificity:0.680\n",
            " \n",
            "Test:\n",
            "AUC:0.673\n",
            "accuracy:0.674\n",
            "recall:0.548\n",
            "precision:0.150\n",
            "specificity:0.686\n",
            " \n"
          ],
          "name": "stdout"
        }
      ]
    },
    {
      "cell_type": "code",
      "metadata": {
        "id": "6CwmpE-L-HpT",
        "colab_type": "code",
        "outputId": "5bcca619-b265-46c1-e4e4-e94af1d202d7",
        "colab": {
          "base_uri": "https://localhost:8080/",
          "height": 285
        }
      },
      "source": [
        "\n",
        "from sklearn.metrics import roc_curve \n",
        "\n",
        "fpr_train, tpr_train, thresholds_train = roc_curve(y_train, y_train_preds)\n",
        "auc_train = roc_auc_score(y_train, y_train_preds)\n",
        "\n",
        "fpr_valid, tpr_valid, thresholds_valid = roc_curve(y_valid, y_valid_preds)\n",
        "auc_valid = roc_auc_score(y_valid, y_valid_preds)\n",
        "\n",
        "fpr_test, tpr_test, thresholds_test = roc_curve(y_test, y_test_preds)\n",
        "auc_test = roc_auc_score(y_test, y_test_preds)\n",
        "\n",
        "plt.plot(fpr_train, tpr_train, 'r-',label ='Train AUC:%.3f'%auc_train)\n",
        "plt.plot(fpr_valid, tpr_valid, 'b-',label ='Valid AUC:%.3f'%auc_valid)\n",
        "plt.plot(fpr_test, tpr_test, 'g-',label ='Test AUC:%.3f'%auc_test)\n",
        "plt.plot([0,1],[0,1],'k--')\n",
        "plt.xlabel('False Positive Rate')\n",
        "plt.ylabel('True Positive Rate')\n",
        "plt.legend()\n",
        "plt.show()\n"
      ],
      "execution_count": 74,
      "outputs": [
        {
          "output_type": "display_data",
          "data": {
            "image/png": "[encoded data removed]",
            "text/plain": [
              "<Figure size 432x288 with 1 Axes>"
            ]
          },
          "metadata": {
            "tags": []
          }
        }
      ]
    },
    {
      "cell_type": "markdown",
      "metadata": {
        "id": "HTgoNbVaRHer",
        "colab_type": "text"
      },
      "source": [
        "\n",
        "# Conclusion\n",
        "\n",
        "In this project, we used Random forest, SVM, SGD and GBC to predict the probability that a patient with diabetes would be readmitted to the hospital within 30 days. On held out test data, our best model had an AUC of of 0.67. Using this model, we are able to catch 58% of the readmissions from our model that performs approximately 1.5 times better than randomly selecting patients."
      ]
    },
    {
      "cell_type": "markdown",
      "metadata": {
        "id": "Mzpuk8jyJ7Gy",
        "colab_type": "text"
      },
      "source": [
        "References:\n",
        "https://towardsdatascience.com/predicting-hospital-readmission-for-patients-with-diabetes-using-scikit-learn-a2e359b15f0"
      ]
    }
  ]
}
